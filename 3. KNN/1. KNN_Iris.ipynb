{
  "cells": [
    {
      "cell_type": "markdown",
      "id": "11fb6bb3",
      "metadata": {},
      "source": [
        "# KKN_Iris"
      ]
    },
    {
      "cell_type": "markdown",
      "id": "187ffc10",
      "metadata": {},
      "source": [
        "### Importing Libraries"
      ]
    },
    {
      "cell_type": "code",
      "execution_count": 1,
      "id": "563cf1be",
      "metadata": {
        "execution": {
          "iopub.execute_input": "2023-04-10T19:26:27.774812Z",
          "iopub.status.busy": "2023-04-10T19:26:27.773658Z",
          "iopub.status.idle": "2023-04-10T19:26:28.877865Z",
          "shell.execute_reply": "2023-04-10T19:26:28.876879Z"
        },
        "id": "563cf1be",
        "papermill": {
          "duration": 1.116446,
          "end_time": "2023-04-10T19:26:28.880264",
          "exception": false,
          "start_time": "2023-04-10T19:26:27.763818",
          "status": "completed"
        },
        "tags": []
      },
      "outputs": [],
      "source": [
        "import pandas as pd\n",
        "import warnings\n",
        "warnings.filterwarnings(\"ignore\")\n",
        "import seaborn as sns\n",
        "import numpy as np\n",
        "import matplotlib.pyplot as plt\n",
        "sns.set(style=\"white\", color_codes=True)\n",
        "from sklearn import datasets\n",
        "from sklearn.model_selection import train_test_split\n",
        "from sklearn.preprocessing import StandardScaler\n",
        "from sklearn.model_selection import train_test_split\n",
        "from sklearn.preprocessing import StandardScaler"
      ]
    },
    {
      "cell_type": "markdown",
      "id": "19d7ad69",
      "metadata": {
        "id": "19d7ad69",
        "papermill": {
          "duration": 0.008355,
          "end_time": "2023-04-10T19:26:28.898311",
          "exception": false,
          "start_time": "2023-04-10T19:26:28.889956",
          "status": "completed"
        },
        "tags": []
      },
      "source": [
        "###  Loading Dataset"
      ]
    },
    {
      "cell_type": "code",
      "execution_count": 2,
      "id": "527e2d49",
      "metadata": {
        "colab": {
          "base_uri": "https://localhost:8080/",
          "height": 223
        },
        "execution": {
          "iopub.execute_input": "2023-04-10T19:26:28.916857Z",
          "iopub.status.busy": "2023-04-10T19:26:28.916519Z",
          "iopub.status.idle": "2023-04-10T19:26:28.947995Z",
          "shell.execute_reply": "2023-04-10T19:26:28.946943Z"
        },
        "id": "527e2d49",
        "outputId": "6c667d7b-26ec-4c61-8581-2e1c8af362da",
        "papermill": {
          "duration": 0.043499,
          "end_time": "2023-04-10T19:26:28.950330",
          "exception": false,
          "start_time": "2023-04-10T19:26:28.906831",
          "status": "completed"
        },
        "tags": []
      },
      "outputs": [
        {
          "data": {
            "application/vnd.google.colaboratory.intrinsic+json": {
              "summary": "{\n  \"name\": \"df\",\n  \"rows\": 150,\n  \"fields\": [\n    {\n      \"column\": \"sepal length (cm)\",\n      \"properties\": {\n        \"dtype\": \"number\",\n        \"std\": 0.8280661279778629,\n        \"min\": 4.3,\n        \"max\": 7.9,\n        \"num_unique_values\": 35,\n        \"samples\": [\n          6.2,\n          4.5,\n          5.6\n        ],\n        \"semantic_type\": \"\",\n        \"description\": \"\"\n      }\n    },\n    {\n      \"column\": \"sepal width (cm)\",\n      \"properties\": {\n        \"dtype\": \"number\",\n        \"std\": 0.435866284936698,\n        \"min\": 2.0,\n        \"max\": 4.4,\n        \"num_unique_values\": 23,\n        \"samples\": [\n          2.3,\n          4.0,\n          3.5\n        ],\n        \"semantic_type\": \"\",\n        \"description\": \"\"\n      }\n    },\n    {\n      \"column\": \"petal length (cm)\",\n      \"properties\": {\n        \"dtype\": \"number\",\n        \"std\": 1.7652982332594667,\n        \"min\": 1.0,\n        \"max\": 6.9,\n        \"num_unique_values\": 43,\n        \"samples\": [\n          6.7,\n          3.8,\n          3.7\n        ],\n        \"semantic_type\": \"\",\n        \"description\": \"\"\n      }\n    },\n    {\n      \"column\": \"petal width (cm)\",\n      \"properties\": {\n        \"dtype\": \"number\",\n        \"std\": 0.7622376689603465,\n        \"min\": 0.1,\n        \"max\": 2.5,\n        \"num_unique_values\": 22,\n        \"samples\": [\n          0.2,\n          1.2,\n          1.3\n        ],\n        \"semantic_type\": \"\",\n        \"description\": \"\"\n      }\n    },\n    {\n      \"column\": \"target\",\n      \"properties\": {\n        \"dtype\": \"number\",\n        \"std\": 0,\n        \"min\": 0,\n        \"max\": 2,\n        \"num_unique_values\": 3,\n        \"samples\": [\n          0,\n          1,\n          2\n        ],\n        \"semantic_type\": \"\",\n        \"description\": \"\"\n      }\n    }\n  ]\n}",
              "type": "dataframe",
              "variable_name": "df"
            },
            "text/html": [
              "\n",
              "  <div id=\"df-17b27e72-ed6c-46b9-ad7f-a8391ae40d12\" class=\"colab-df-container\">\n",
              "    <div>\n",
              "<style scoped>\n",
              "    .dataframe tbody tr th:only-of-type {\n",
              "        vertical-align: middle;\n",
              "    }\n",
              "\n",
              "    .dataframe tbody tr th {\n",
              "        vertical-align: top;\n",
              "    }\n",
              "\n",
              "    .dataframe thead th {\n",
              "        text-align: right;\n",
              "    }\n",
              "</style>\n",
              "<table border=\"1\" class=\"dataframe\">\n",
              "  <thead>\n",
              "    <tr style=\"text-align: right;\">\n",
              "      <th></th>\n",
              "      <th>sepal length (cm)</th>\n",
              "      <th>sepal width (cm)</th>\n",
              "      <th>petal length (cm)</th>\n",
              "      <th>petal width (cm)</th>\n",
              "      <th>target</th>\n",
              "    </tr>\n",
              "  </thead>\n",
              "  <tbody>\n",
              "    <tr>\n",
              "      <th>0</th>\n",
              "      <td>5.1</td>\n",
              "      <td>3.5</td>\n",
              "      <td>1.4</td>\n",
              "      <td>0.2</td>\n",
              "      <td>0</td>\n",
              "    </tr>\n",
              "    <tr>\n",
              "      <th>1</th>\n",
              "      <td>4.9</td>\n",
              "      <td>3.0</td>\n",
              "      <td>1.4</td>\n",
              "      <td>0.2</td>\n",
              "      <td>0</td>\n",
              "    </tr>\n",
              "    <tr>\n",
              "      <th>2</th>\n",
              "      <td>4.7</td>\n",
              "      <td>3.2</td>\n",
              "      <td>1.3</td>\n",
              "      <td>0.2</td>\n",
              "      <td>0</td>\n",
              "    </tr>\n",
              "    <tr>\n",
              "      <th>3</th>\n",
              "      <td>4.6</td>\n",
              "      <td>3.1</td>\n",
              "      <td>1.5</td>\n",
              "      <td>0.2</td>\n",
              "      <td>0</td>\n",
              "    </tr>\n",
              "    <tr>\n",
              "      <th>4</th>\n",
              "      <td>5.0</td>\n",
              "      <td>3.6</td>\n",
              "      <td>1.4</td>\n",
              "      <td>0.2</td>\n",
              "      <td>0</td>\n",
              "    </tr>\n",
              "  </tbody>\n",
              "</table>\n",
              "</div>\n",
              "    <div class=\"colab-df-buttons\">\n",
              "\n",
              "  <div class=\"colab-df-container\">\n",
              "    <button class=\"colab-df-convert\" onclick=\"convertToInteractive('df-17b27e72-ed6c-46b9-ad7f-a8391ae40d12')\"\n",
              "            title=\"Convert this dataframe to an interactive table.\"\n",
              "            style=\"display:none;\">\n",
              "\n",
              "  <svg xmlns=\"http://www.w3.org/2000/svg\" height=\"24px\" viewBox=\"0 -960 960 960\">\n",
              "    <path d=\"M120-120v-720h720v720H120Zm60-500h600v-160H180v160Zm220 220h160v-160H400v160Zm0 220h160v-160H400v160ZM180-400h160v-160H180v160Zm440 0h160v-160H620v160ZM180-180h160v-160H180v160Zm440 0h160v-160H620v160Z\"/>\n",
              "  </svg>\n",
              "    </button>\n",
              "\n",
              "  <style>\n",
              "    .colab-df-container {\n",
              "      display:flex;\n",
              "      gap: 12px;\n",
              "    }\n",
              "\n",
              "    .colab-df-convert {\n",
              "      background-color: #E8F0FE;\n",
              "      border: none;\n",
              "      border-radius: 50%;\n",
              "      cursor: pointer;\n",
              "      display: none;\n",
              "      fill: #1967D2;\n",
              "      height: 32px;\n",
              "      padding: 0 0 0 0;\n",
              "      width: 32px;\n",
              "    }\n",
              "\n",
              "    .colab-df-convert:hover {\n",
              "      background-color: #E2EBFA;\n",
              "      box-shadow: 0px 1px 2px rgba(60, 64, 67, 0.3), 0px 1px 3px 1px rgba(60, 64, 67, 0.15);\n",
              "      fill: #174EA6;\n",
              "    }\n",
              "\n",
              "    .colab-df-buttons div {\n",
              "      margin-bottom: 4px;\n",
              "    }\n",
              "\n",
              "    [theme=dark] .colab-df-convert {\n",
              "      background-color: #3B4455;\n",
              "      fill: #D2E3FC;\n",
              "    }\n",
              "\n",
              "    [theme=dark] .colab-df-convert:hover {\n",
              "      background-color: #434B5C;\n",
              "      box-shadow: 0px 1px 3px 1px rgba(0, 0, 0, 0.15);\n",
              "      filter: drop-shadow(0px 1px 2px rgba(0, 0, 0, 0.3));\n",
              "      fill: #FFFFFF;\n",
              "    }\n",
              "  </style>\n",
              "\n",
              "    <script>\n",
              "      const buttonEl =\n",
              "        document.querySelector('#df-17b27e72-ed6c-46b9-ad7f-a8391ae40d12 button.colab-df-convert');\n",
              "      buttonEl.style.display =\n",
              "        google.colab.kernel.accessAllowed ? 'block' : 'none';\n",
              "\n",
              "      async function convertToInteractive(key) {\n",
              "        const element = document.querySelector('#df-17b27e72-ed6c-46b9-ad7f-a8391ae40d12');\n",
              "        const dataTable =\n",
              "          await google.colab.kernel.invokeFunction('convertToInteractive',\n",
              "                                                    [key], {});\n",
              "        if (!dataTable) return;\n",
              "\n",
              "        const docLinkHtml = 'Like what you see? Visit the ' +\n",
              "          '<a target=\"_blank\" href=https://colab.research.google.com/notebooks/data_table.ipynb>data table notebook</a>'\n",
              "          + ' to learn more about interactive tables.';\n",
              "        element.innerHTML = '';\n",
              "        dataTable['output_type'] = 'display_data';\n",
              "        await google.colab.output.renderOutput(dataTable, element);\n",
              "        const docLink = document.createElement('div');\n",
              "        docLink.innerHTML = docLinkHtml;\n",
              "        element.appendChild(docLink);\n",
              "      }\n",
              "    </script>\n",
              "  </div>\n",
              "\n",
              "\n",
              "<div id=\"df-f2581595-936c-469d-a546-a9bf75eb59b5\">\n",
              "  <button class=\"colab-df-quickchart\" onclick=\"quickchart('df-f2581595-936c-469d-a546-a9bf75eb59b5')\"\n",
              "            title=\"Suggest charts\"\n",
              "            style=\"display:none;\">\n",
              "\n",
              "<svg xmlns=\"http://www.w3.org/2000/svg\" height=\"24px\"viewBox=\"0 0 24 24\"\n",
              "     width=\"24px\">\n",
              "    <g>\n",
              "        <path d=\"M19 3H5c-1.1 0-2 .9-2 2v14c0 1.1.9 2 2 2h14c1.1 0 2-.9 2-2V5c0-1.1-.9-2-2-2zM9 17H7v-7h2v7zm4 0h-2V7h2v10zm4 0h-2v-4h2v4z\"/>\n",
              "    </g>\n",
              "</svg>\n",
              "  </button>\n",
              "\n",
              "<style>\n",
              "  .colab-df-quickchart {\n",
              "      --bg-color: #E8F0FE;\n",
              "      --fill-color: #1967D2;\n",
              "      --hover-bg-color: #E2EBFA;\n",
              "      --hover-fill-color: #174EA6;\n",
              "      --disabled-fill-color: #AAA;\n",
              "      --disabled-bg-color: #DDD;\n",
              "  }\n",
              "\n",
              "  [theme=dark] .colab-df-quickchart {\n",
              "      --bg-color: #3B4455;\n",
              "      --fill-color: #D2E3FC;\n",
              "      --hover-bg-color: #434B5C;\n",
              "      --hover-fill-color: #FFFFFF;\n",
              "      --disabled-bg-color: #3B4455;\n",
              "      --disabled-fill-color: #666;\n",
              "  }\n",
              "\n",
              "  .colab-df-quickchart {\n",
              "    background-color: var(--bg-color);\n",
              "    border: none;\n",
              "    border-radius: 50%;\n",
              "    cursor: pointer;\n",
              "    display: none;\n",
              "    fill: var(--fill-color);\n",
              "    height: 32px;\n",
              "    padding: 0;\n",
              "    width: 32px;\n",
              "  }\n",
              "\n",
              "  .colab-df-quickchart:hover {\n",
              "    background-color: var(--hover-bg-color);\n",
              "    box-shadow: 0 1px 2px rgba(60, 64, 67, 0.3), 0 1px 3px 1px rgba(60, 64, 67, 0.15);\n",
              "    fill: var(--button-hover-fill-color);\n",
              "  }\n",
              "\n",
              "  .colab-df-quickchart-complete:disabled,\n",
              "  .colab-df-quickchart-complete:disabled:hover {\n",
              "    background-color: var(--disabled-bg-color);\n",
              "    fill: var(--disabled-fill-color);\n",
              "    box-shadow: none;\n",
              "  }\n",
              "\n",
              "  .colab-df-spinner {\n",
              "    border: 2px solid var(--fill-color);\n",
              "    border-color: transparent;\n",
              "    border-bottom-color: var(--fill-color);\n",
              "    animation:\n",
              "      spin 1s steps(1) infinite;\n",
              "  }\n",
              "\n",
              "  @keyframes spin {\n",
              "    0% {\n",
              "      border-color: transparent;\n",
              "      border-bottom-color: var(--fill-color);\n",
              "      border-left-color: var(--fill-color);\n",
              "    }\n",
              "    20% {\n",
              "      border-color: transparent;\n",
              "      border-left-color: var(--fill-color);\n",
              "      border-top-color: var(--fill-color);\n",
              "    }\n",
              "    30% {\n",
              "      border-color: transparent;\n",
              "      border-left-color: var(--fill-color);\n",
              "      border-top-color: var(--fill-color);\n",
              "      border-right-color: var(--fill-color);\n",
              "    }\n",
              "    40% {\n",
              "      border-color: transparent;\n",
              "      border-right-color: var(--fill-color);\n",
              "      border-top-color: var(--fill-color);\n",
              "    }\n",
              "    60% {\n",
              "      border-color: transparent;\n",
              "      border-right-color: var(--fill-color);\n",
              "    }\n",
              "    80% {\n",
              "      border-color: transparent;\n",
              "      border-right-color: var(--fill-color);\n",
              "      border-bottom-color: var(--fill-color);\n",
              "    }\n",
              "    90% {\n",
              "      border-color: transparent;\n",
              "      border-bottom-color: var(--fill-color);\n",
              "    }\n",
              "  }\n",
              "</style>\n",
              "\n",
              "  <script>\n",
              "    async function quickchart(key) {\n",
              "      const quickchartButtonEl =\n",
              "        document.querySelector('#' + key + ' button');\n",
              "      quickchartButtonEl.disabled = true;  // To prevent multiple clicks.\n",
              "      quickchartButtonEl.classList.add('colab-df-spinner');\n",
              "      try {\n",
              "        const charts = await google.colab.kernel.invokeFunction(\n",
              "            'suggestCharts', [key], {});\n",
              "      } catch (error) {\n",
              "        console.error('Error during call to suggestCharts:', error);\n",
              "      }\n",
              "      quickchartButtonEl.classList.remove('colab-df-spinner');\n",
              "      quickchartButtonEl.classList.add('colab-df-quickchart-complete');\n",
              "    }\n",
              "    (() => {\n",
              "      let quickchartButtonEl =\n",
              "        document.querySelector('#df-f2581595-936c-469d-a546-a9bf75eb59b5 button');\n",
              "      quickchartButtonEl.style.display =\n",
              "        google.colab.kernel.accessAllowed ? 'block' : 'none';\n",
              "    })();\n",
              "  </script>\n",
              "</div>\n",
              "\n",
              "    </div>\n",
              "  </div>\n"
            ],
            "text/plain": [
              "   sepal length (cm)  sepal width (cm)  petal length (cm)  petal width (cm)  \\\n",
              "0                5.1               3.5                1.4               0.2   \n",
              "1                4.9               3.0                1.4               0.2   \n",
              "2                4.7               3.2                1.3               0.2   \n",
              "3                4.6               3.1                1.5               0.2   \n",
              "4                5.0               3.6                1.4               0.2   \n",
              "\n",
              "   target  \n",
              "0       0  \n",
              "1       0  \n",
              "2       0  \n",
              "3       0  \n",
              "4       0  "
            ]
          },
          "execution_count": 2,
          "metadata": {},
          "output_type": "execute_result"
        }
      ],
      "source": [
        "iris = datasets.load_iris()\n",
        "df = pd.DataFrame(data=iris.data, columns=iris.feature_names)\n",
        "df['target'] = iris.target\n",
        "df.head()"
      ]
    },
    {
      "cell_type": "markdown",
      "id": "3a8c7c7e",
      "metadata": {
        "id": "3a8c7c7e",
        "papermill": {
          "duration": 0.008486,
          "end_time": "2023-04-10T19:26:29.002309",
          "exception": false,
          "start_time": "2023-04-10T19:26:28.993823",
          "status": "completed"
        },
        "tags": []
      },
      "source": [
        "### Checking if the dataset is balanced or not"
      ]
    },
    {
      "cell_type": "code",
      "execution_count": 3,
      "id": "dd9807f3",
      "metadata": {
        "colab": {
          "base_uri": "https://localhost:8080/",
          "height": 451
        },
        "execution": {
          "iopub.execute_input": "2023-04-10T19:26:29.023214Z",
          "iopub.status.busy": "2023-04-10T19:26:29.021270Z",
          "iopub.status.idle": "2023-04-10T19:26:29.284007Z",
          "shell.execute_reply": "2023-04-10T19:26:29.283046Z"
        },
        "id": "dd9807f3",
        "outputId": "6109f1b0-eb6a-490f-e91d-850510c44778",
        "papermill": {
          "duration": 0.275077,
          "end_time": "2023-04-10T19:26:29.286260",
          "exception": false,
          "start_time": "2023-04-10T19:26:29.011183",
          "status": "completed"
        },
        "tags": []
      },
      "outputs": [
        {
          "data": {
            "text/plain": [
              "<Axes: ylabel='target'>"
            ]
          },
          "execution_count": 3,
          "metadata": {},
          "output_type": "execute_result"
        },
        {
          "data": {
            "image/png": "[encoded data removed]",
            "text/plain": [
              "<Figure size 640x480 with 1 Axes>"
            ]
          },
          "metadata": {},
          "output_type": "display_data"
        }
      ],
      "source": [
        "df.groupby('target').size().plot(kind='barh')"
      ]
    },
    {
      "cell_type": "markdown",
      "id": "8dcf208b",
      "metadata": {
        "id": "8dcf208b",
        "papermill": {
          "duration": 0.008705,
          "end_time": "2023-04-10T19:26:29.322292",
          "exception": false,
          "start_time": "2023-04-10T19:26:29.313587",
          "status": "completed"
        },
        "tags": []
      },
      "source": [
        "#### Euclidean distance function"
      ]
    },
    {
      "cell_type": "code",
      "execution_count": 4,
      "id": "aa1fe21a",
      "metadata": {
        "execution": {
          "iopub.execute_input": "2023-04-10T19:26:29.342994Z",
          "iopub.status.busy": "2023-04-10T19:26:29.341872Z",
          "iopub.status.idle": "2023-04-10T19:26:29.347595Z",
          "shell.execute_reply": "2023-04-10T19:26:29.346940Z"
        },
        "id": "aa1fe21a",
        "papermill": {
          "duration": 0.018116,
          "end_time": "2023-04-10T19:26:29.349508",
          "exception": false,
          "start_time": "2023-04-10T19:26:29.331392",
          "status": "completed"
        },
        "tags": []
      },
      "outputs": [],
      "source": [
        "def dis(a, b, p=1):\n",
        "    l = len(a)\n",
        "    d = 0\n",
        "    for i in range(l):\n",
        "        d += abs(a[i] - b[i]) ** p\n",
        "    d = d ** (1/p)\n",
        "    return d"
      ]
    },
    {
      "cell_type": "markdown",
      "id": "dc07ade2",
      "metadata": {
        "id": "dc07ade2",
        "papermill": {
          "duration": 0.008777,
          "end_time": "2023-04-10T19:26:29.367167",
          "exception": false,
          "start_time": "2023-04-10T19:26:29.358390",
          "status": "completed"
        },
        "tags": []
      },
      "source": [
        "- Now one test point will be executed before splitting data for train and test, it’s to check all\n",
        "implementation, that have been so far.\n",
        "- Here the test point that used is test_pt = [4.8, 2.7, 2.5, 0.7].\n",
        "- Here after taking the test point the code will measure distance from this data point with\n",
        "all those 150 data points. Then it’ll convert that list to a python DataFrame for further\n",
        "convenience"
      ]
    },
    {
      "cell_type": "code",
      "execution_count": 5,
      "id": "9476996b",
      "metadata": {
        "colab": {
          "base_uri": "https://localhost:8080/",
          "height": 206
        },
        "execution": {
          "iopub.execute_input": "2023-04-10T19:26:29.386548Z",
          "iopub.status.busy": "2023-04-10T19:26:29.386204Z",
          "iopub.status.idle": "2023-04-10T19:26:29.410838Z",
          "shell.execute_reply": "2023-04-10T19:26:29.409716Z"
        },
        "id": "9476996b",
        "outputId": "31226fa8-9495-4c50-a210-1e0b4c1ec3c5",
        "papermill": {
          "duration": 0.036946,
          "end_time": "2023-04-10T19:26:29.413046",
          "exception": false,
          "start_time": "2023-04-10T19:26:29.376100",
          "status": "completed"
        },
        "tags": []
      },
      "outputs": [
        {
          "data": {
            "application/vnd.google.colaboratory.intrinsic+json": {
              "summary": "{\n  \"name\": \"dists\",\n  \"rows\": 150,\n  \"fields\": [\n    {\n      \"column\": \"dist\",\n      \"properties\": {\n        \"dtype\": \"number\",\n        \"std\": 1.965658749038952,\n        \"min\": 1.4000000000000001,\n        \"max\": 9.7,\n        \"num_unique_values\": 97,\n        \"samples\": [\n          3.0000000000000004,\n          3.6,\n          6.699999999999999\n        ],\n        \"semantic_type\": \"\",\n        \"description\": \"\"\n      }\n    }\n  ]\n}",
              "type": "dataframe",
              "variable_name": "dists"
            },
            "text/html": [
              "\n",
              "  <div id=\"df-c52e16a9-dc6c-456e-877d-64c390d3af91\" class=\"colab-df-container\">\n",
              "    <div>\n",
              "<style scoped>\n",
              "    .dataframe tbody tr th:only-of-type {\n",
              "        vertical-align: middle;\n",
              "    }\n",
              "\n",
              "    .dataframe tbody tr th {\n",
              "        vertical-align: top;\n",
              "    }\n",
              "\n",
              "    .dataframe thead th {\n",
              "        text-align: right;\n",
              "    }\n",
              "</style>\n",
              "<table border=\"1\" class=\"dataframe\">\n",
              "  <thead>\n",
              "    <tr style=\"text-align: right;\">\n",
              "      <th></th>\n",
              "      <th>dist</th>\n",
              "    </tr>\n",
              "  </thead>\n",
              "  <tbody>\n",
              "    <tr>\n",
              "      <th>0</th>\n",
              "      <td>2.7</td>\n",
              "    </tr>\n",
              "    <tr>\n",
              "      <th>1</th>\n",
              "      <td>2.0</td>\n",
              "    </tr>\n",
              "    <tr>\n",
              "      <th>2</th>\n",
              "      <td>2.3</td>\n",
              "    </tr>\n",
              "    <tr>\n",
              "      <th>3</th>\n",
              "      <td>2.1</td>\n",
              "    </tr>\n",
              "    <tr>\n",
              "      <th>4</th>\n",
              "      <td>2.7</td>\n",
              "    </tr>\n",
              "  </tbody>\n",
              "</table>\n",
              "</div>\n",
              "    <div class=\"colab-df-buttons\">\n",
              "\n",
              "  <div class=\"colab-df-container\">\n",
              "    <button class=\"colab-df-convert\" onclick=\"convertToInteractive('df-c52e16a9-dc6c-456e-877d-64c390d3af91')\"\n",
              "            title=\"Convert this dataframe to an interactive table.\"\n",
              "            style=\"display:none;\">\n",
              "\n",
              "  <svg xmlns=\"http://www.w3.org/2000/svg\" height=\"24px\" viewBox=\"0 -960 960 960\">\n",
              "    <path d=\"M120-120v-720h720v720H120Zm60-500h600v-160H180v160Zm220 220h160v-160H400v160Zm0 220h160v-160H400v160ZM180-400h160v-160H180v160Zm440 0h160v-160H620v160ZM180-180h160v-160H180v160Zm440 0h160v-160H620v160Z\"/>\n",
              "  </svg>\n",
              "    </button>\n",
              "\n",
              "  <style>\n",
              "    .colab-df-container {\n",
              "      display:flex;\n",
              "      gap: 12px;\n",
              "    }\n",
              "\n",
              "    .colab-df-convert {\n",
              "      background-color: #E8F0FE;\n",
              "      border: none;\n",
              "      border-radius: 50%;\n",
              "      cursor: pointer;\n",
              "      display: none;\n",
              "      fill: #1967D2;\n",
              "      height: 32px;\n",
              "      padding: 0 0 0 0;\n",
              "      width: 32px;\n",
              "    }\n",
              "\n",
              "    .colab-df-convert:hover {\n",
              "      background-color: #E2EBFA;\n",
              "      box-shadow: 0px 1px 2px rgba(60, 64, 67, 0.3), 0px 1px 3px 1px rgba(60, 64, 67, 0.15);\n",
              "      fill: #174EA6;\n",
              "    }\n",
              "\n",
              "    .colab-df-buttons div {\n",
              "      margin-bottom: 4px;\n",
              "    }\n",
              "\n",
              "    [theme=dark] .colab-df-convert {\n",
              "      background-color: #3B4455;\n",
              "      fill: #D2E3FC;\n",
              "    }\n",
              "\n",
              "    [theme=dark] .colab-df-convert:hover {\n",
              "      background-color: #434B5C;\n",
              "      box-shadow: 0px 1px 3px 1px rgba(0, 0, 0, 0.15);\n",
              "      filter: drop-shadow(0px 1px 2px rgba(0, 0, 0, 0.3));\n",
              "      fill: #FFFFFF;\n",
              "    }\n",
              "  </style>\n",
              "\n",
              "    <script>\n",
              "      const buttonEl =\n",
              "        document.querySelector('#df-c52e16a9-dc6c-456e-877d-64c390d3af91 button.colab-df-convert');\n",
              "      buttonEl.style.display =\n",
              "        google.colab.kernel.accessAllowed ? 'block' : 'none';\n",
              "\n",
              "      async function convertToInteractive(key) {\n",
              "        const element = document.querySelector('#df-c52e16a9-dc6c-456e-877d-64c390d3af91');\n",
              "        const dataTable =\n",
              "          await google.colab.kernel.invokeFunction('convertToInteractive',\n",
              "                                                    [key], {});\n",
              "        if (!dataTable) return;\n",
              "\n",
              "        const docLinkHtml = 'Like what you see? Visit the ' +\n",
              "          '<a target=\"_blank\" href=https://colab.research.google.com/notebooks/data_table.ipynb>data table notebook</a>'\n",
              "          + ' to learn more about interactive tables.';\n",
              "        element.innerHTML = '';\n",
              "        dataTable['output_type'] = 'display_data';\n",
              "        await google.colab.output.renderOutput(dataTable, element);\n",
              "        const docLink = document.createElement('div');\n",
              "        docLink.innerHTML = docLinkHtml;\n",
              "        element.appendChild(docLink);\n",
              "      }\n",
              "    </script>\n",
              "  </div>\n",
              "\n",
              "\n",
              "<div id=\"df-822ad1de-d428-40f3-8d29-53ec16f78132\">\n",
              "  <button class=\"colab-df-quickchart\" onclick=\"quickchart('df-822ad1de-d428-40f3-8d29-53ec16f78132')\"\n",
              "            title=\"Suggest charts\"\n",
              "            style=\"display:none;\">\n",
              "\n",
              "<svg xmlns=\"http://www.w3.org/2000/svg\" height=\"24px\"viewBox=\"0 0 24 24\"\n",
              "     width=\"24px\">\n",
              "    <g>\n",
              "        <path d=\"M19 3H5c-1.1 0-2 .9-2 2v14c0 1.1.9 2 2 2h14c1.1 0 2-.9 2-2V5c0-1.1-.9-2-2-2zM9 17H7v-7h2v7zm4 0h-2V7h2v10zm4 0h-2v-4h2v4z\"/>\n",
              "    </g>\n",
              "</svg>\n",
              "  </button>\n",
              "\n",
              "<style>\n",
              "  .colab-df-quickchart {\n",
              "      --bg-color: #E8F0FE;\n",
              "      --fill-color: #1967D2;\n",
              "      --hover-bg-color: #E2EBFA;\n",
              "      --hover-fill-color: #174EA6;\n",
              "      --disabled-fill-color: #AAA;\n",
              "      --disabled-bg-color: #DDD;\n",
              "  }\n",
              "\n",
              "  [theme=dark] .colab-df-quickchart {\n",
              "      --bg-color: #3B4455;\n",
              "      --fill-color: #D2E3FC;\n",
              "      --hover-bg-color: #434B5C;\n",
              "      --hover-fill-color: #FFFFFF;\n",
              "      --disabled-bg-color: #3B4455;\n",
              "      --disabled-fill-color: #666;\n",
              "  }\n",
              "\n",
              "  .colab-df-quickchart {\n",
              "    background-color: var(--bg-color);\n",
              "    border: none;\n",
              "    border-radius: 50%;\n",
              "    cursor: pointer;\n",
              "    display: none;\n",
              "    fill: var(--fill-color);\n",
              "    height: 32px;\n",
              "    padding: 0;\n",
              "    width: 32px;\n",
              "  }\n",
              "\n",
              "  .colab-df-quickchart:hover {\n",
              "    background-color: var(--hover-bg-color);\n",
              "    box-shadow: 0 1px 2px rgba(60, 64, 67, 0.3), 0 1px 3px 1px rgba(60, 64, 67, 0.15);\n",
              "    fill: var(--button-hover-fill-color);\n",
              "  }\n",
              "\n",
              "  .colab-df-quickchart-complete:disabled,\n",
              "  .colab-df-quickchart-complete:disabled:hover {\n",
              "    background-color: var(--disabled-bg-color);\n",
              "    fill: var(--disabled-fill-color);\n",
              "    box-shadow: none;\n",
              "  }\n",
              "\n",
              "  .colab-df-spinner {\n",
              "    border: 2px solid var(--fill-color);\n",
              "    border-color: transparent;\n",
              "    border-bottom-color: var(--fill-color);\n",
              "    animation:\n",
              "      spin 1s steps(1) infinite;\n",
              "  }\n",
              "\n",
              "  @keyframes spin {\n",
              "    0% {\n",
              "      border-color: transparent;\n",
              "      border-bottom-color: var(--fill-color);\n",
              "      border-left-color: var(--fill-color);\n",
              "    }\n",
              "    20% {\n",
              "      border-color: transparent;\n",
              "      border-left-color: var(--fill-color);\n",
              "      border-top-color: var(--fill-color);\n",
              "    }\n",
              "    30% {\n",
              "      border-color: transparent;\n",
              "      border-left-color: var(--fill-color);\n",
              "      border-top-color: var(--fill-color);\n",
              "      border-right-color: var(--fill-color);\n",
              "    }\n",
              "    40% {\n",
              "      border-color: transparent;\n",
              "      border-right-color: var(--fill-color);\n",
              "      border-top-color: var(--fill-color);\n",
              "    }\n",
              "    60% {\n",
              "      border-color: transparent;\n",
              "      border-right-color: var(--fill-color);\n",
              "    }\n",
              "    80% {\n",
              "      border-color: transparent;\n",
              "      border-right-color: var(--fill-color);\n",
              "      border-bottom-color: var(--fill-color);\n",
              "    }\n",
              "    90% {\n",
              "      border-color: transparent;\n",
              "      border-bottom-color: var(--fill-color);\n",
              "    }\n",
              "  }\n",
              "</style>\n",
              "\n",
              "  <script>\n",
              "    async function quickchart(key) {\n",
              "      const quickchartButtonEl =\n",
              "        document.querySelector('#' + key + ' button');\n",
              "      quickchartButtonEl.disabled = true;  // To prevent multiple clicks.\n",
              "      quickchartButtonEl.classList.add('colab-df-spinner');\n",
              "      try {\n",
              "        const charts = await google.colab.kernel.invokeFunction(\n",
              "            'suggestCharts', [key], {});\n",
              "      } catch (error) {\n",
              "        console.error('Error during call to suggestCharts:', error);\n",
              "      }\n",
              "      quickchartButtonEl.classList.remove('colab-df-spinner');\n",
              "      quickchartButtonEl.classList.add('colab-df-quickchart-complete');\n",
              "    }\n",
              "    (() => {\n",
              "      let quickchartButtonEl =\n",
              "        document.querySelector('#df-822ad1de-d428-40f3-8d29-53ec16f78132 button');\n",
              "      quickchartButtonEl.style.display =\n",
              "        google.colab.kernel.accessAllowed ? 'block' : 'none';\n",
              "    })();\n",
              "  </script>\n",
              "</div>\n",
              "\n",
              "    </div>\n",
              "  </div>\n"
            ],
            "text/plain": [
              "   dist\n",
              "0   2.7\n",
              "1   2.0\n",
              "2   2.3\n",
              "3   2.1\n",
              "4   2.7"
            ]
          },
          "execution_count": 5,
          "metadata": {},
          "output_type": "execute_result"
        }
      ],
      "source": [
        "X = df.drop('target', axis=1)\n",
        "y = df.target\n",
        "test_pt = [4.8, 2.7, 2.5, 0.7]\n",
        "distances = []\n",
        "for i in X.index:\n",
        "    a = dis(test_pt, X.iloc[i])\n",
        "    distances.append(a)\n",
        "dists = pd.DataFrame(data=distances, index=X.index, columns=['dist'])\n",
        "dists.head()"
      ]
    },
    {
      "cell_type": "markdown",
      "id": "01a8b2a9",
      "metadata": {
        "id": "01a8b2a9",
        "papermill": {
          "duration": 0.008903,
          "end_time": "2023-04-10T19:26:29.449781",
          "exception": false,
          "start_time": "2023-04-10T19:26:29.440878",
          "status": "completed"
        },
        "tags": []
      },
      "source": [
        "### Distance DataFrame is sorted to measure which class the nearest"
      ]
    },
    {
      "cell_type": "code",
      "execution_count": 6,
      "id": "8cad79ad",
      "metadata": {
        "execution": {
          "iopub.execute_input": "2023-04-10T19:26:29.469738Z",
          "iopub.status.busy": "2023-04-10T19:26:29.469084Z",
          "iopub.status.idle": "2023-04-10T19:26:29.473962Z",
          "shell.execute_reply": "2023-04-10T19:26:29.472950Z"
        },
        "id": "8cad79ad",
        "papermill": {
          "duration": 0.017209,
          "end_time": "2023-04-10T19:26:29.476022",
          "exception": false,
          "start_time": "2023-04-10T19:26:29.458813",
          "status": "completed"
        },
        "tags": []
      },
      "outputs": [],
      "source": [
        "def knn_sort(k,dists): return dists.sort_values(by = 'dist')[:k]"
      ]
    },
    {
      "cell_type": "code",
      "execution_count": 7,
      "id": "8a892945",
      "metadata": {
        "colab": {
          "base_uri": "https://localhost:8080/"
        },
        "execution": {
          "iopub.execute_input": "2023-04-10T19:26:29.514445Z",
          "iopub.status.busy": "2023-04-10T19:26:29.513650Z",
          "iopub.status.idle": "2023-04-10T19:26:29.522769Z",
          "shell.execute_reply": "2023-04-10T19:26:29.521753Z"
        },
        "id": "8a892945",
        "outputId": "736ef3eb-b91b-4823-dc64-9e8f70d784f7",
        "papermill": {
          "duration": 0.022563,
          "end_time": "2023-04-10T19:26:29.525814",
          "exception": false,
          "start_time": "2023-04-10T19:26:29.503251",
          "status": "completed"
        },
        "tags": []
      },
      "outputs": [
        {
          "name": "stdout",
          "output_type": "stream",
          "text": [
            "    dist\n",
            "98   1.4\n",
            "57   1.5\n",
            "93   1.7\n",
            "24   1.8\n",
            "45   1.8\n",
            "1\n"
          ]
        }
      ],
      "source": [
        "sorted_dists = knn_sort(5, dists)\n",
        "print(sorted_dists)\n",
        "\n",
        "count_set = {}\n",
        "for i in sorted_dists.index:\n",
        "    if y[i] not in count_set:\n",
        "        count_set[y[i]] = 1\n",
        "    else:\n",
        "        count_set[y[i]] += 1\n",
        "\n",
        "print(max(count_set))"
      ]
    },
    {
      "cell_type": "markdown",
      "id": "747654b6",
      "metadata": {
        "id": "747654b6",
        "papermill": {
          "duration": 0.010183,
          "end_time": "2023-04-10T19:26:29.586371",
          "exception": false,
          "start_time": "2023-04-10T19:26:29.576188",
          "status": "completed"
        },
        "tags": []
      },
      "source": [
        "### Split the data - 75% train, 25% test"
      ]
    },
    {
      "cell_type": "code",
      "execution_count": 8,
      "id": "620d7f5e",
      "metadata": {
        "execution": {
          "iopub.execute_input": "2023-04-10T19:26:29.608912Z",
          "iopub.status.busy": "2023-04-10T19:26:29.607732Z",
          "iopub.status.idle": "2023-04-10T19:26:29.621923Z",
          "shell.execute_reply": "2023-04-10T19:26:29.620318Z"
        },
        "id": "620d7f5e",
        "papermill": {
          "duration": 0.02754,
          "end_time": "2023-04-10T19:26:29.624335",
          "exception": false,
          "start_time": "2023-04-10T19:26:29.596795",
          "status": "completed"
        },
        "tags": []
      },
      "outputs": [],
      "source": [
        "X_train, X_test, y_train, y_test = train_test_split(X, y, test_size=0.25,random_state=1)\n",
        "scaler = StandardScaler()\n",
        "X_train = scaler.fit_transform(X_train)\n",
        "X_test = scaler.transform(X_test)\n"
      ]
    },
    {
      "cell_type": "markdown",
      "id": "55ee2a1a",
      "metadata": {
        "id": "55ee2a1a",
        "papermill": {
          "duration": 0.009503,
          "end_time": "2023-04-10T19:26:29.644362",
          "exception": false,
          "start_time": "2023-04-10T19:26:29.634859",
          "status": "completed"
        },
        "tags": []
      },
      "source": [
        "### Training and predicting the test set and checking accuracy."
      ]
    },
    {
      "cell_type": "code",
      "execution_count": 9,
      "id": "1ed47de9",
      "metadata": {
        "execution": {
          "iopub.execute_input": "2023-04-10T19:26:29.664916Z",
          "iopub.status.busy": "2023-04-10T19:26:29.664252Z",
          "iopub.status.idle": "2023-04-10T19:26:29.672210Z",
          "shell.execute_reply": "2023-04-10T19:26:29.671087Z"
        },
        "id": "1ed47de9",
        "papermill": {
          "duration": 0.020733,
          "end_time": "2023-04-10T19:26:29.674364",
          "exception": false,
          "start_time": "2023-04-10T19:26:29.653631",
          "status": "completed"
        },
        "tags": []
      },
      "outputs": [],
      "source": [
        "def KNN(X_train, X_test, y_train, y_test, k, p):\n",
        "    y_predict = []\n",
        "    for test_pt in X_test:\n",
        "        distances = []\n",
        "        for i in X_train:\n",
        "            a = dis(test_pt, i, p)\n",
        "            distances.append(a)\n",
        "        dists = pd.DataFrame(data=distances, index=y_train.index, columns=['dist'])\n",
        "        sorted_dists = knn_sort(k, dists)\n",
        "        #print(sorted_dists)\n",
        "        count_set = {}\n",
        "        for i in sorted_dists.index:\n",
        "            if y_train[i] not in count_set:\n",
        "                count_set[y_train[i]] = 1\n",
        "            else:\n",
        "                count_set[y_train[i]] += 1\n",
        "        y_predict.append(max(count_set))\n",
        "    y = y_test.tolist()\n",
        "    accr = 0\n",
        "    for i in range(len(y)):\n",
        "        if y[i] == y_predict[i]:\n",
        "            accr += 1\n",
        "    return accr/len(y)\n",
        "    #print('Accuracy',accr/len(y))\n"
      ]
    },
    {
      "cell_type": "markdown",
      "id": "73c902a3",
      "metadata": {
        "id": "73c902a3",
        "papermill": {
          "duration": 0.008874,
          "end_time": "2023-04-10T19:26:29.692377",
          "exception": false,
          "start_time": "2023-04-10T19:26:29.683503",
          "status": "completed"
        },
        "tags": []
      },
      "source": [
        "### Using the KNN function"
      ]
    },
    {
      "cell_type": "code",
      "execution_count": 10,
      "id": "c34bdbea",
      "metadata": {
        "colab": {
          "base_uri": "https://localhost:8080/"
        },
        "execution": {
          "iopub.execute_input": "2023-04-10T19:26:29.712019Z",
          "iopub.status.busy": "2023-04-10T19:26:29.711688Z",
          "iopub.status.idle": "2023-04-10T19:26:29.754668Z",
          "shell.execute_reply": "2023-04-10T19:26:29.753555Z"
        },
        "id": "c34bdbea",
        "outputId": "be13988a-4326-42eb-81f6-c8f9288fd696",
        "papermill": {
          "duration": 0.055582,
          "end_time": "2023-04-10T19:26:29.757122",
          "exception": false,
          "start_time": "2023-04-10T19:26:29.701540",
          "status": "completed"
        },
        "tags": []
      },
      "outputs": [
        {
          "data": {
            "text/plain": [
              "0.868421052631579"
            ]
          },
          "execution_count": 10,
          "metadata": {},
          "output_type": "execute_result"
        }
      ],
      "source": [
        "KNN(X_train, X_test, y_train, y_test, 5,1)"
      ]
    },
    {
      "cell_type": "markdown",
      "id": "c375d56a",
      "metadata": {
        "id": "c375d56a",
        "papermill": {
          "duration": 0.009263,
          "end_time": "2023-04-10T19:26:29.794023",
          "exception": false,
          "start_time": "2023-04-10T19:26:29.784760",
          "status": "completed"
        },
        "tags": []
      },
      "source": [
        "### State the best accuracy"
      ]
    },
    {
      "cell_type": "code",
      "execution_count": 11,
      "id": "b201d9fa",
      "metadata": {
        "colab": {
          "base_uri": "https://localhost:8080/",
          "height": 542
        },
        "execution": {
          "iopub.execute_input": "2023-04-10T19:26:29.815038Z",
          "iopub.status.busy": "2023-04-10T19:26:29.813944Z",
          "iopub.status.idle": "2023-04-10T19:26:35.030924Z",
          "shell.execute_reply": "2023-04-10T19:26:35.029937Z"
        },
        "id": "b201d9fa",
        "outputId": "8516f166-4609-4065-8021-c06e174d09a3",
        "papermill": {
          "duration": 5.229919,
          "end_time": "2023-04-10T19:26:35.033350",
          "exception": false,
          "start_time": "2023-04-10T19:26:29.803431",
          "status": "completed"
        },
        "tags": []
      },
      "outputs": [
        {
          "name": "stdout",
          "output_type": "stream",
          "text": [
            "0.9736842105263158\n"
          ]
        },
        {
          "data": {
            "text/plain": [
              "Text(0, 0.5, 'Accuracy (%)')"
            ]
          },
          "execution_count": 11,
          "metadata": {},
          "output_type": "execute_result"
        },
        {
          "data": {
            "image/png": "[encoded data removed]",
            "text/plain": [
              "<Figure size 800x600 with 1 Axes>"
            ]
          },
          "metadata": {},
          "output_type": "display_data"
        }
      ],
      "source": [
        "accuracies = []\n",
        "for i in range(1,100):\n",
        "    accuracies.append(KNN(X_train, X_test, y_train, y_test, i,1))\n",
        "\n",
        "print(max(accuracies))\n",
        "\n",
        "fig, ax = plt.subplots(figsize=(8,6))\n",
        "ax.plot(range(1,100), accuracies)\n",
        "ax.set_xlabel('# of Nearest Neighbors (k)')\n",
        "ax.set_ylabel('Accuracy (%)')\n"
      ]
    },
    {
      "cell_type": "markdown",
      "id": "0511ad17",
      "metadata": {
        "id": "0511ad17",
        "papermill": {
          "duration": 0.009633,
          "end_time": "2023-04-10T19:26:35.072873",
          "exception": false,
          "start_time": "2023-04-10T19:26:35.063240",
          "status": "completed"
        },
        "tags": []
      },
      "source": [
        "### Ratio of the Train and Test samples:"
      ]
    },
    {
      "cell_type": "markdown",
      "id": "79515a3e",
      "metadata": {
        "id": "79515a3e",
        "papermill": {
          "duration": 0.00959,
          "end_time": "2023-04-10T19:26:35.092217",
          "exception": false,
          "start_time": "2023-04-10T19:26:35.082627",
          "status": "completed"
        },
        "tags": []
      },
      "source": [
        "There are 112 train data sample and 38 test data samples are being considered for this\n",
        "problem. So, the ratio would be –\n",
        "\n",
        "Train data = 112*100/ (113+37) % = 75%\n",
        "\n",
        "Test data = 38*100/(113+37)% = 25%"
      ]
    },
    {
      "cell_type": "markdown",
      "id": "5b7cec1e",
      "metadata": {
        "id": "5b7cec1e",
        "papermill": {
          "duration": 0.009547,
          "end_time": "2023-04-10T19:26:35.111534",
          "exception": false,
          "start_time": "2023-04-10T19:26:35.101987",
          "status": "completed"
        },
        "tags": []
      },
      "source": [
        "## Performance Analysis:\n"
      ]
    },
    {
      "cell_type": "markdown",
      "id": "719bc944",
      "metadata": {
        "id": "719bc944",
        "papermill": {
          "duration": 0.009644,
          "end_time": "2023-04-10T19:26:35.151002",
          "exception": false,
          "start_time": "2023-04-10T19:26:35.141358",
          "status": "completed"
        },
        "tags": []
      },
      "source": [
        "### Data Visualization"
      ]
    },
    {
      "cell_type": "code",
      "execution_count": 12,
      "id": "8cd1b777",
      "metadata": {
        "colab": {
          "base_uri": "https://localhost:8080/",
          "height": 478
        },
        "execution": {
          "iopub.execute_input": "2023-04-10T19:26:35.191530Z",
          "iopub.status.busy": "2023-04-10T19:26:35.191162Z",
          "iopub.status.idle": "2023-04-10T19:26:35.468748Z",
          "shell.execute_reply": "2023-04-10T19:26:35.467808Z"
        },
        "id": "8cd1b777",
        "outputId": "2b2903d0-3df3-4c65-a752-42376f0dd46a",
        "papermill": {
          "duration": 0.290856,
          "end_time": "2023-04-10T19:26:35.471002",
          "exception": false,
          "start_time": "2023-04-10T19:26:35.180146",
          "status": "completed"
        },
        "tags": []
      },
      "outputs": [
        {
          "data": {
            "text/plain": [
              "<Axes: xlabel='sepal length (cm)', ylabel='sepal width (cm)'>"
            ]
          },
          "execution_count": 12,
          "metadata": {},
          "output_type": "execute_result"
        },
        {
          "data": {
            "image/png": "[encoded data removed]",
            "text/plain": [
              "<Figure size 640x480 with 1 Axes>"
            ]
          },
          "metadata": {},
          "output_type": "display_data"
        }
      ],
      "source": [
        "df.plot(kind=\"scatter\", x=\"sepal length (cm)\", y=\"sepal width (cm)\")"
      ]
    },
    {
      "cell_type": "code",
      "execution_count": 13,
      "id": "3468bd87",
      "metadata": {
        "colab": {
          "base_uri": "https://localhost:8080/",
          "height": 618
        },
        "execution": {
          "iopub.execute_input": "2023-04-10T19:26:35.513858Z",
          "iopub.status.busy": "2023-04-10T19:26:35.513506Z",
          "iopub.status.idle": "2023-04-10T19:26:36.178039Z",
          "shell.execute_reply": "2023-04-10T19:26:36.176979Z"
        },
        "id": "3468bd87",
        "outputId": "4eeb587f-fda3-4022-b8ab-13488124ea0e",
        "papermill": {
          "duration": 0.678386,
          "end_time": "2023-04-10T19:26:36.180414",
          "exception": false,
          "start_time": "2023-04-10T19:26:35.502028",
          "status": "completed"
        },
        "tags": []
      },
      "outputs": [
        {
          "data": {
            "text/plain": [
              "<seaborn.axisgrid.JointGrid at 0x7bd71a87b990>"
            ]
          },
          "execution_count": 13,
          "metadata": {},
          "output_type": "execute_result"
        },
        {
          "data": {
            "image/png": "[encoded data removed]",
            "text/plain": [
              "<Figure size 600x600 with 3 Axes>"
            ]
          },
          "metadata": {},
          "output_type": "display_data"
        }
      ],
      "source": [
        "sns.jointplot(x=\"sepal length (cm)\", y=\"sepal width (cm)\", data=df, size=5)"
      ]
    },
    {
      "cell_type": "code",
      "execution_count": 14,
      "id": "0ae64805",
      "metadata": {
        "colab": {
          "base_uri": "https://localhost:8080/",
          "height": 475
        },
        "execution": {
          "iopub.execute_input": "2023-04-10T19:26:36.205510Z",
          "iopub.status.busy": "2023-04-10T19:26:36.204861Z",
          "iopub.status.idle": "2023-04-10T19:26:36.451925Z",
          "shell.execute_reply": "2023-04-10T19:26:36.450865Z"
        },
        "id": "0ae64805",
        "outputId": "9a7e4f07-9462-42fd-907d-da394d24775a",
        "papermill": {
          "duration": 0.261839,
          "end_time": "2023-04-10T19:26:36.454130",
          "exception": false,
          "start_time": "2023-04-10T19:26:36.192291",
          "status": "completed"
        },
        "tags": []
      },
      "outputs": [
        {
          "data": {
            "text/plain": [
              "<Axes: xlabel='target', ylabel='petal length (cm)'>"
            ]
          },
          "execution_count": 14,
          "metadata": {},
          "output_type": "execute_result"
        },
        {
          "data": {
            "image/png": "[encoded data removed]",
            "text/plain": [
              "<Figure size 640x480 with 1 Axes>"
            ]
          },
          "metadata": {},
          "output_type": "display_data"
        }
      ],
      "source": [
        "sns.boxplot(x=\"target\", y=\"petal length (cm)\", data=df)"
      ]
    },
    {
      "cell_type": "code",
      "execution_count": 15,
      "id": "bf1c8479",
      "metadata": {
        "colab": {
          "base_uri": "https://localhost:8080/",
          "height": 458
        },
        "execution": {
          "iopub.execute_input": "2023-04-10T19:26:36.502424Z",
          "iopub.status.busy": "2023-04-10T19:26:36.501331Z",
          "iopub.status.idle": "2023-04-10T19:26:36.788169Z",
          "shell.execute_reply": "2023-04-10T19:26:36.787143Z"
        },
        "id": "bf1c8479",
        "outputId": "391f4133-5c0b-45c3-a657-e103d1b3c838",
        "papermill": {
          "duration": 0.301923,
          "end_time": "2023-04-10T19:26:36.790638",
          "exception": false,
          "start_time": "2023-04-10T19:26:36.488715",
          "status": "completed"
        },
        "tags": []
      },
      "outputs": [
        {
          "data": {
            "image/png": "[encoded data removed]",
            "text/plain": [
              "<Figure size 640x480 with 1 Axes>"
            ]
          },
          "metadata": {},
          "output_type": "display_data"
        }
      ],
      "source": [
        "cx = sns.boxplot(x=\"target\", y=\"petal length (cm)\", data= df )\n",
        "cx = sns.stripplot(x=\"target\", y=\"petal length (cm)\", data=df, jitter=True, edgecolor=\"gray\")"
      ]
    }
  ],
  "metadata": {
    "colab": {
      "provenance": []
    },
    "kernelspec": {
      "display_name": "Python 3",
      "language": "python",
      "name": "python3"
    },
    "language_info": {
      "codemirror_mode": {
        "name": "ipython",
        "version": 3
      },
      "file_extension": ".py",
      "mimetype": "text/x-python",
      "name": "python",
      "nbconvert_exporter": "python",
      "pygments_lexer": "ipython3",
      "version": "3.7.12"
    },
    "papermill": {
      "default_parameters": {},
      "duration": 19.821981,
      "end_time": "2023-04-10T19:26:38.190139",
      "environment_variables": {},
      "exception": null,
      "input_path": "__notebook__.ipynb",
      "output_path": "__notebook__.ipynb",
      "parameters": {},
      "start_time": "2023-04-10T19:26:18.368158",
      "version": "2.4.0"
    }
  },
  "nbformat": 4,
  "nbformat_minor": 5
}
