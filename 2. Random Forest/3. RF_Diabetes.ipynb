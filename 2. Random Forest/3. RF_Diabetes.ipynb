{
  "cells": [
    {
      "cell_type": "markdown",
      "metadata": {
        "id": "EfaKL54ueWfy"
      },
      "source": [
        "# Random_Forest_Diabetes\n",
        "\n",
        "\n"
      ]
    },
    {
      "cell_type": "markdown",
      "metadata": {},
      "source": [
        "### Importing Libraries"
      ]
    },
    {
      "cell_type": "code",
      "execution_count": 2,
      "metadata": {
        "id": "g9cCpF53eWf0",
        "trusted": true
      },
      "outputs": [],
      "source": [
        "import pandas as pd\n",
        "import numpy as np\n",
        "import matplotlib.pyplot as plt\n",
        "from sklearn import preprocessing\n",
        "import seaborn as sbs\n",
        "\n",
        "sbs.set_theme()\n",
        "\n",
        "# %matplotlib qt\n",
        "%matplotlib inline"
      ]
    },
    {
      "cell_type": "markdown",
      "metadata": {},
      "source": [
        "### Loading Dataset"
      ]
    },
    {
      "cell_type": "code",
      "execution_count": 3,
      "metadata": {
        "colab": {
          "base_uri": "https://localhost:8080/",
          "height": 363
        },
        "id": "rB1wf_UbeWf1",
        "outputId": "1bc5b594-ee8b-4b79-e7a0-ded57a63ea6b",
        "trusted": true
      },
      "outputs": [
        {
          "data": {
            "text/html": [
              "<div>\n",
              "<style scoped>\n",
              "    .dataframe tbody tr th:only-of-type {\n",
              "        vertical-align: middle;\n",
              "    }\n",
              "\n",
              "    .dataframe tbody tr th {\n",
              "        vertical-align: top;\n",
              "    }\n",
              "\n",
              "    .dataframe thead th {\n",
              "        text-align: right;\n",
              "    }\n",
              "</style>\n",
              "<table border=\"1\" class=\"dataframe\">\n",
              "  <thead>\n",
              "    <tr style=\"text-align: right;\">\n",
              "      <th></th>\n",
              "      <th>Pregnancies</th>\n",
              "      <th>Glucose</th>\n",
              "      <th>BloodPressure</th>\n",
              "      <th>SkinThickness</th>\n",
              "      <th>Insulin</th>\n",
              "      <th>BMI</th>\n",
              "      <th>DiabetesPedigreeFunction</th>\n",
              "      <th>Age</th>\n",
              "      <th>Outcome</th>\n",
              "    </tr>\n",
              "  </thead>\n",
              "  <tbody>\n",
              "    <tr>\n",
              "      <th>0</th>\n",
              "      <td>6</td>\n",
              "      <td>148</td>\n",
              "      <td>72</td>\n",
              "      <td>35</td>\n",
              "      <td>0</td>\n",
              "      <td>33.6</td>\n",
              "      <td>0.627</td>\n",
              "      <td>50</td>\n",
              "      <td>1</td>\n",
              "    </tr>\n",
              "    <tr>\n",
              "      <th>1</th>\n",
              "      <td>1</td>\n",
              "      <td>85</td>\n",
              "      <td>66</td>\n",
              "      <td>29</td>\n",
              "      <td>0</td>\n",
              "      <td>26.6</td>\n",
              "      <td>0.351</td>\n",
              "      <td>31</td>\n",
              "      <td>0</td>\n",
              "    </tr>\n",
              "    <tr>\n",
              "      <th>2</th>\n",
              "      <td>8</td>\n",
              "      <td>183</td>\n",
              "      <td>64</td>\n",
              "      <td>0</td>\n",
              "      <td>0</td>\n",
              "      <td>23.3</td>\n",
              "      <td>0.672</td>\n",
              "      <td>32</td>\n",
              "      <td>1</td>\n",
              "    </tr>\n",
              "    <tr>\n",
              "      <th>3</th>\n",
              "      <td>1</td>\n",
              "      <td>89</td>\n",
              "      <td>66</td>\n",
              "      <td>23</td>\n",
              "      <td>94</td>\n",
              "      <td>28.1</td>\n",
              "      <td>0.167</td>\n",
              "      <td>21</td>\n",
              "      <td>0</td>\n",
              "    </tr>\n",
              "    <tr>\n",
              "      <th>4</th>\n",
              "      <td>0</td>\n",
              "      <td>137</td>\n",
              "      <td>40</td>\n",
              "      <td>35</td>\n",
              "      <td>168</td>\n",
              "      <td>43.1</td>\n",
              "      <td>2.288</td>\n",
              "      <td>33</td>\n",
              "      <td>1</td>\n",
              "    </tr>\n",
              "    <tr>\n",
              "      <th>5</th>\n",
              "      <td>5</td>\n",
              "      <td>116</td>\n",
              "      <td>74</td>\n",
              "      <td>0</td>\n",
              "      <td>0</td>\n",
              "      <td>25.6</td>\n",
              "      <td>0.201</td>\n",
              "      <td>30</td>\n",
              "      <td>0</td>\n",
              "    </tr>\n",
              "    <tr>\n",
              "      <th>6</th>\n",
              "      <td>3</td>\n",
              "      <td>78</td>\n",
              "      <td>50</td>\n",
              "      <td>32</td>\n",
              "      <td>88</td>\n",
              "      <td>31.0</td>\n",
              "      <td>0.248</td>\n",
              "      <td>26</td>\n",
              "      <td>1</td>\n",
              "    </tr>\n",
              "    <tr>\n",
              "      <th>7</th>\n",
              "      <td>10</td>\n",
              "      <td>115</td>\n",
              "      <td>0</td>\n",
              "      <td>0</td>\n",
              "      <td>0</td>\n",
              "      <td>35.3</td>\n",
              "      <td>0.134</td>\n",
              "      <td>29</td>\n",
              "      <td>0</td>\n",
              "    </tr>\n",
              "    <tr>\n",
              "      <th>8</th>\n",
              "      <td>2</td>\n",
              "      <td>197</td>\n",
              "      <td>70</td>\n",
              "      <td>45</td>\n",
              "      <td>543</td>\n",
              "      <td>30.5</td>\n",
              "      <td>0.158</td>\n",
              "      <td>53</td>\n",
              "      <td>1</td>\n",
              "    </tr>\n",
              "    <tr>\n",
              "      <th>9</th>\n",
              "      <td>8</td>\n",
              "      <td>125</td>\n",
              "      <td>96</td>\n",
              "      <td>0</td>\n",
              "      <td>0</td>\n",
              "      <td>0.0</td>\n",
              "      <td>0.232</td>\n",
              "      <td>54</td>\n",
              "      <td>1</td>\n",
              "    </tr>\n",
              "  </tbody>\n",
              "</table>\n",
              "</div>"
            ],
            "text/plain": [
              "   Pregnancies  Glucose  BloodPressure  SkinThickness  Insulin   BMI  \\\n",
              "0            6      148             72             35        0  33.6   \n",
              "1            1       85             66             29        0  26.6   \n",
              "2            8      183             64              0        0  23.3   \n",
              "3            1       89             66             23       94  28.1   \n",
              "4            0      137             40             35      168  43.1   \n",
              "5            5      116             74              0        0  25.6   \n",
              "6            3       78             50             32       88  31.0   \n",
              "7           10      115              0              0        0  35.3   \n",
              "8            2      197             70             45      543  30.5   \n",
              "9            8      125             96              0        0   0.0   \n",
              "\n",
              "   DiabetesPedigreeFunction  Age  Outcome  \n",
              "0                     0.627   50        1  \n",
              "1                     0.351   31        0  \n",
              "2                     0.672   32        1  \n",
              "3                     0.167   21        0  \n",
              "4                     2.288   33        1  \n",
              "5                     0.201   30        0  \n",
              "6                     0.248   26        1  \n",
              "7                     0.134   29        0  \n",
              "8                     0.158   53        1  \n",
              "9                     0.232   54        1  "
            ]
          },
          "execution_count": 3,
          "metadata": {},
          "output_type": "execute_result"
        }
      ],
      "source": [
        "url=\"https://raw.githubusercontent.com/plotly/datasets/refs/heads/master/diabetes.csv\"\n",
        "df=pd.read_csv(url)\n",
        "df.head(10)"
      ]
    },
    {
      "cell_type": "code",
      "execution_count": 4,
      "metadata": {
        "colab": {
          "base_uri": "https://localhost:8080/"
        },
        "id": "nBPMUhPheWf2",
        "outputId": "215682fa-bf6d-4281-e95b-50ea25782c4e",
        "trusted": true
      },
      "outputs": [
        {
          "name": "stdout",
          "output_type": "stream",
          "text": [
            "<class 'pandas.core.frame.DataFrame'>\n",
            "RangeIndex: 768 entries, 0 to 767\n",
            "Data columns (total 9 columns):\n",
            " #   Column                    Non-Null Count  Dtype  \n",
            "---  ------                    --------------  -----  \n",
            " 0   Pregnancies               768 non-null    int64  \n",
            " 1   Glucose                   768 non-null    int64  \n",
            " 2   BloodPressure             768 non-null    int64  \n",
            " 3   SkinThickness             768 non-null    int64  \n",
            " 4   Insulin                   768 non-null    int64  \n",
            " 5   BMI                       768 non-null    float64\n",
            " 6   DiabetesPedigreeFunction  768 non-null    float64\n",
            " 7   Age                       768 non-null    int64  \n",
            " 8   Outcome                   768 non-null    int64  \n",
            "dtypes: float64(2), int64(7)\n",
            "memory usage: 54.1 KB\n"
          ]
        }
      ],
      "source": [
        "df.info()"
      ]
    },
    {
      "cell_type": "code",
      "execution_count": 5,
      "metadata": {
        "colab": {
          "base_uri": "https://localhost:8080/",
          "height": 300
        },
        "id": "ju73cLJfeWf2",
        "outputId": "d2f02a2e-8054-44d2-d026-d09308abad3c",
        "trusted": true
      },
      "outputs": [
        {
          "data": {
            "text/html": [
              "<div>\n",
              "<style scoped>\n",
              "    .dataframe tbody tr th:only-of-type {\n",
              "        vertical-align: middle;\n",
              "    }\n",
              "\n",
              "    .dataframe tbody tr th {\n",
              "        vertical-align: top;\n",
              "    }\n",
              "\n",
              "    .dataframe thead th {\n",
              "        text-align: right;\n",
              "    }\n",
              "</style>\n",
              "<table border=\"1\" class=\"dataframe\">\n",
              "  <thead>\n",
              "    <tr style=\"text-align: right;\">\n",
              "      <th></th>\n",
              "      <th>Pregnancies</th>\n",
              "      <th>Glucose</th>\n",
              "      <th>BloodPressure</th>\n",
              "      <th>SkinThickness</th>\n",
              "      <th>Insulin</th>\n",
              "      <th>BMI</th>\n",
              "      <th>DiabetesPedigreeFunction</th>\n",
              "      <th>Age</th>\n",
              "      <th>Outcome</th>\n",
              "    </tr>\n",
              "  </thead>\n",
              "  <tbody>\n",
              "    <tr>\n",
              "      <th>count</th>\n",
              "      <td>768.000000</td>\n",
              "      <td>768.000000</td>\n",
              "      <td>768.000000</td>\n",
              "      <td>768.000000</td>\n",
              "      <td>768.000000</td>\n",
              "      <td>768.000000</td>\n",
              "      <td>768.000000</td>\n",
              "      <td>768.000000</td>\n",
              "      <td>768.000000</td>\n",
              "    </tr>\n",
              "    <tr>\n",
              "      <th>mean</th>\n",
              "      <td>3.845052</td>\n",
              "      <td>120.894531</td>\n",
              "      <td>69.105469</td>\n",
              "      <td>20.536458</td>\n",
              "      <td>79.799479</td>\n",
              "      <td>31.992578</td>\n",
              "      <td>0.471876</td>\n",
              "      <td>33.240885</td>\n",
              "      <td>0.348958</td>\n",
              "    </tr>\n",
              "    <tr>\n",
              "      <th>std</th>\n",
              "      <td>3.369578</td>\n",
              "      <td>31.972618</td>\n",
              "      <td>19.355807</td>\n",
              "      <td>15.952218</td>\n",
              "      <td>115.244002</td>\n",
              "      <td>7.884160</td>\n",
              "      <td>0.331329</td>\n",
              "      <td>11.760232</td>\n",
              "      <td>0.476951</td>\n",
              "    </tr>\n",
              "    <tr>\n",
              "      <th>min</th>\n",
              "      <td>0.000000</td>\n",
              "      <td>0.000000</td>\n",
              "      <td>0.000000</td>\n",
              "      <td>0.000000</td>\n",
              "      <td>0.000000</td>\n",
              "      <td>0.000000</td>\n",
              "      <td>0.078000</td>\n",
              "      <td>21.000000</td>\n",
              "      <td>0.000000</td>\n",
              "    </tr>\n",
              "    <tr>\n",
              "      <th>25%</th>\n",
              "      <td>1.000000</td>\n",
              "      <td>99.000000</td>\n",
              "      <td>62.000000</td>\n",
              "      <td>0.000000</td>\n",
              "      <td>0.000000</td>\n",
              "      <td>27.300000</td>\n",
              "      <td>0.243750</td>\n",
              "      <td>24.000000</td>\n",
              "      <td>0.000000</td>\n",
              "    </tr>\n",
              "    <tr>\n",
              "      <th>50%</th>\n",
              "      <td>3.000000</td>\n",
              "      <td>117.000000</td>\n",
              "      <td>72.000000</td>\n",
              "      <td>23.000000</td>\n",
              "      <td>30.500000</td>\n",
              "      <td>32.000000</td>\n",
              "      <td>0.372500</td>\n",
              "      <td>29.000000</td>\n",
              "      <td>0.000000</td>\n",
              "    </tr>\n",
              "    <tr>\n",
              "      <th>75%</th>\n",
              "      <td>6.000000</td>\n",
              "      <td>140.250000</td>\n",
              "      <td>80.000000</td>\n",
              "      <td>32.000000</td>\n",
              "      <td>127.250000</td>\n",
              "      <td>36.600000</td>\n",
              "      <td>0.626250</td>\n",
              "      <td>41.000000</td>\n",
              "      <td>1.000000</td>\n",
              "    </tr>\n",
              "    <tr>\n",
              "      <th>max</th>\n",
              "      <td>17.000000</td>\n",
              "      <td>199.000000</td>\n",
              "      <td>122.000000</td>\n",
              "      <td>99.000000</td>\n",
              "      <td>846.000000</td>\n",
              "      <td>67.100000</td>\n",
              "      <td>2.420000</td>\n",
              "      <td>81.000000</td>\n",
              "      <td>1.000000</td>\n",
              "    </tr>\n",
              "  </tbody>\n",
              "</table>\n",
              "</div>"
            ],
            "text/plain": [
              "       Pregnancies     Glucose  BloodPressure  SkinThickness     Insulin  \\\n",
              "count   768.000000  768.000000     768.000000     768.000000  768.000000   \n",
              "mean      3.845052  120.894531      69.105469      20.536458   79.799479   \n",
              "std       3.369578   31.972618      19.355807      15.952218  115.244002   \n",
              "min       0.000000    0.000000       0.000000       0.000000    0.000000   \n",
              "25%       1.000000   99.000000      62.000000       0.000000    0.000000   \n",
              "50%       3.000000  117.000000      72.000000      23.000000   30.500000   \n",
              "75%       6.000000  140.250000      80.000000      32.000000  127.250000   \n",
              "max      17.000000  199.000000     122.000000      99.000000  846.000000   \n",
              "\n",
              "              BMI  DiabetesPedigreeFunction         Age     Outcome  \n",
              "count  768.000000                768.000000  768.000000  768.000000  \n",
              "mean    31.992578                  0.471876   33.240885    0.348958  \n",
              "std      7.884160                  0.331329   11.760232    0.476951  \n",
              "min      0.000000                  0.078000   21.000000    0.000000  \n",
              "25%     27.300000                  0.243750   24.000000    0.000000  \n",
              "50%     32.000000                  0.372500   29.000000    0.000000  \n",
              "75%     36.600000                  0.626250   41.000000    1.000000  \n",
              "max     67.100000                  2.420000   81.000000    1.000000  "
            ]
          },
          "execution_count": 5,
          "metadata": {},
          "output_type": "execute_result"
        }
      ],
      "source": [
        "df.describe()"
      ]
    },
    {
      "cell_type": "code",
      "execution_count": 6,
      "metadata": {
        "colab": {
          "base_uri": "https://localhost:8080/",
          "height": 366
        },
        "id": "YB3zJxri-_Xt",
        "outputId": "70c7040b-b616-4046-df61-ee877a2b3ca8"
      },
      "outputs": [
        {
          "data": {
            "text/plain": [
              "Pregnancies                 0\n",
              "Glucose                     0\n",
              "BloodPressure               0\n",
              "SkinThickness               0\n",
              "Insulin                     0\n",
              "BMI                         0\n",
              "DiabetesPedigreeFunction    0\n",
              "Age                         0\n",
              "Outcome                     0\n",
              "dtype: int64"
            ]
          },
          "execution_count": 6,
          "metadata": {},
          "output_type": "execute_result"
        }
      ],
      "source": [
        "df.isna().sum()"
      ]
    },
    {
      "cell_type": "markdown",
      "metadata": {
        "id": "pZeh6KeieWf2"
      },
      "source": [
        "We can see that some values are outright outliers; like the Pregnancies, Glucose, BloodPressure, SkinThickness, Insulin, BMI are just 0. Which doesn't seems a possible value."
      ]
    },
    {
      "cell_type": "code",
      "execution_count": 7,
      "metadata": {
        "id": "tijtERZYeWf2",
        "trusted": true
      },
      "outputs": [],
      "source": [
        "df[['Glucose', 'BloodPressure', 'SkinThickness', 'Insulin', 'BMI']] = df[['Glucose', 'BloodPressure', 'SkinThickness', 'Insulin', 'BMI']].replace(0, np.nan)"
      ]
    },
    {
      "cell_type": "code",
      "execution_count": 8,
      "metadata": {
        "colab": {
          "base_uri": "https://localhost:8080/",
          "height": 1000
        },
        "id": "BT8QweUVeWf2",
        "outputId": "976348e5-b613-483e-d487-6b2f274ca991",
        "scrolled": false,
        "trusted": true
      },
      "outputs": [
        {
          "data": {
            "image/png": "[encoded data removed]",
            "text/plain": [
              "<Figure size 2000x1500 with 9 Axes>"
            ]
          },
          "metadata": {},
          "output_type": "display_data"
        }
      ],
      "source": [
        "_ = df.hist(bins=50, figsize=(20, 15))"
      ]
    },
    {
      "cell_type": "markdown",
      "metadata": {
        "id": "Pl0v5j5XeWf3"
      },
      "source": [
        "Taking count of diabetic and healthy persons"
      ]
    },
    {
      "cell_type": "code",
      "execution_count": 9,
      "metadata": {
        "colab": {
          "base_uri": "https://localhost:8080/",
          "height": 500
        },
        "id": "_ZQxLZFXeWf3",
        "outputId": "ee861779-3549-4926-87eb-df699371f848",
        "trusted": true
      },
      "outputs": [
        {
          "data": {
            "text/plain": [
              "<Axes: >"
            ]
          },
          "execution_count": 9,
          "metadata": {},
          "output_type": "execute_result"
        },
        {
          "data": {
            "image/png": "[encoded data removed]",
            "text/plain": [
              "<Figure size 640x480 with 1 Axes>"
            ]
          },
          "metadata": {},
          "output_type": "display_data"
        }
      ],
      "source": [
        "Healthy =  df[ df['Outcome'] == 0 ]\n",
        "Diabetic = df[ df['Outcome'] == 1 ]\n",
        "\n",
        "h_diab = pd.Series({'healthy':Healthy.shape[0],\n",
        "            'Diabetic':Diabetic.shape[0]})\n",
        "h_diab.plot.bar(alpha=0.7)"
      ]
    },
    {
      "cell_type": "code",
      "execution_count": 10,
      "metadata": {
        "colab": {
          "base_uri": "https://localhost:8080/",
          "height": 428
        },
        "id": "-KeXVJ8GeWf3",
        "outputId": "5bc7e24a-0e0b-4423-8849-50931c1305a1",
        "trusted": true
      },
      "outputs": [
        {
          "data": {
            "image/png": "[encoded data removed]",
            "text/plain": [
              "<Figure size 640x480 with 1 Axes>"
            ]
          },
          "metadata": {},
          "output_type": "display_data"
        }
      ],
      "source": [
        "h_diab.plot.pie(startangle=90,\n",
        "                explode=[0, 0.1],\n",
        "                autopct='%1.1f%%',\n",
        "                colors=['C3', 'C4'])\n",
        "plt.title('Relative % of females diabetic ')\n",
        "plt.ylabel('')\n",
        "_ = plt.axis('equal')"
      ]
    },
    {
      "cell_type": "markdown",
      "metadata": {
        "id": "FcIbM6ZgeWf3"
      },
      "source": [
        "### Taking a look at null values"
      ]
    },
    {
      "cell_type": "code",
      "execution_count": 11,
      "metadata": {
        "colab": {
          "base_uri": "https://localhost:8080/",
          "height": 366
        },
        "id": "lZd13ewFeWf3",
        "outputId": "a97b24cf-41b4-4c7e-dbf0-28bd4ed413e2",
        "trusted": true
      },
      "outputs": [
        {
          "data": {
            "text/plain": [
              "Pregnancies                   0\n",
              "Glucose                       5\n",
              "BloodPressure                35\n",
              "SkinThickness               227\n",
              "Insulin                     374\n",
              "BMI                          11\n",
              "DiabetesPedigreeFunction      0\n",
              "Age                           0\n",
              "Outcome                       0\n",
              "dtype: int64"
            ]
          },
          "execution_count": 11,
          "metadata": {},
          "output_type": "execute_result"
        }
      ],
      "source": [
        "df.isnull().sum()"
      ]
    },
    {
      "cell_type": "code",
      "execution_count": 12,
      "metadata": {
        "colab": {
          "base_uri": "https://localhost:8080/",
          "height": 143
        },
        "id": "AeOr2MGZeWf4",
        "outputId": "4234b27a-c08a-43ca-9d6d-64c9ec49f16d",
        "trusted": true
      },
      "outputs": [
        {
          "data": {
            "text/html": [
              "<div>\n",
              "<style scoped>\n",
              "    .dataframe tbody tr th:only-of-type {\n",
              "        vertical-align: middle;\n",
              "    }\n",
              "\n",
              "    .dataframe tbody tr th {\n",
              "        vertical-align: top;\n",
              "    }\n",
              "\n",
              "    .dataframe thead th {\n",
              "        text-align: right;\n",
              "    }\n",
              "</style>\n",
              "<table border=\"1\" class=\"dataframe\">\n",
              "  <thead>\n",
              "    <tr style=\"text-align: right;\">\n",
              "      <th></th>\n",
              "      <th>Age</th>\n",
              "      <th>BMI</th>\n",
              "      <th>BloodPressure</th>\n",
              "      <th>DiabetesPedigreeFunction</th>\n",
              "      <th>Glucose</th>\n",
              "      <th>Insulin</th>\n",
              "      <th>Pregnancies</th>\n",
              "      <th>SkinThickness</th>\n",
              "    </tr>\n",
              "    <tr>\n",
              "      <th>Outcome</th>\n",
              "      <th></th>\n",
              "      <th></th>\n",
              "      <th></th>\n",
              "      <th></th>\n",
              "      <th></th>\n",
              "      <th></th>\n",
              "      <th></th>\n",
              "      <th></th>\n",
              "    </tr>\n",
              "  </thead>\n",
              "  <tbody>\n",
              "    <tr>\n",
              "      <th>0</th>\n",
              "      <td>31.190000</td>\n",
              "      <td>30.859674</td>\n",
              "      <td>70.877339</td>\n",
              "      <td>0.429734</td>\n",
              "      <td>110.643863</td>\n",
              "      <td>130.287879</td>\n",
              "      <td>3.298000</td>\n",
              "      <td>27.235457</td>\n",
              "    </tr>\n",
              "    <tr>\n",
              "      <th>1</th>\n",
              "      <td>37.067164</td>\n",
              "      <td>35.406767</td>\n",
              "      <td>75.321429</td>\n",
              "      <td>0.550500</td>\n",
              "      <td>142.319549</td>\n",
              "      <td>206.846154</td>\n",
              "      <td>4.865672</td>\n",
              "      <td>33.000000</td>\n",
              "    </tr>\n",
              "  </tbody>\n",
              "</table>\n",
              "</div>"
            ],
            "text/plain": [
              "               Age        BMI  BloodPressure  DiabetesPedigreeFunction  \\\n",
              "Outcome                                                                  \n",
              "0        31.190000  30.859674      70.877339                  0.429734   \n",
              "1        37.067164  35.406767      75.321429                  0.550500   \n",
              "\n",
              "            Glucose     Insulin  Pregnancies  SkinThickness  \n",
              "Outcome                                                      \n",
              "0        110.643863  130.287879     3.298000      27.235457  \n",
              "1        142.319549  206.846154     4.865672      33.000000  "
            ]
          },
          "execution_count": 12,
          "metadata": {},
          "output_type": "execute_result"
        }
      ],
      "source": [
        "df.pivot_table(index=['Outcome'] )"
      ]
    },
    {
      "cell_type": "markdown",
      "metadata": {
        "id": "fZfoP6NheWf4"
      },
      "source": [
        "We can replace this null values with median values with the appropriate values for the given outcome.\n",
        "\n",
        "<mark>If the distribution is not symmetrical, it makes sense to use a median instead of the mean. B/c it represents the series better as it will be less affected by median outliers.</mark>"
      ]
    },
    {
      "cell_type": "code",
      "execution_count": 13,
      "metadata": {
        "colab": {
          "base_uri": "https://localhost:8080/"
        },
        "id": "y42OLQqHeWf4",
        "outputId": "09876edb-9224-4a4b-97af-e8d7124c2afb",
        "trusted": true
      },
      "outputs": [
        {
          "name": "stdout",
          "output_type": "stream",
          "text": [
            "Pregnancies                 0\n",
            "Glucose                     0\n",
            "BloodPressure               0\n",
            "SkinThickness               0\n",
            "Insulin                     0\n",
            "BMI                         0\n",
            "DiabetesPedigreeFunction    0\n",
            "Age                         0\n",
            "Outcome                     0\n",
            "dtype: int64\n"
          ]
        }
      ],
      "source": [
        "def replace_null_values(df):\n",
        "    for col in df.columns:\n",
        "        df.loc[(df['Outcome']==0) & (df[col].isnull()), col] = df[df['Outcome'] == 0][col].median()\n",
        "        df.loc[(df['Outcome']==1) & (df[col].isnull()), col] = df[ df['Outcome'] == 1][col].median()\n",
        "    print(df.isnull().sum())\n",
        "\n",
        "replace_null_values(df)"
      ]
    },
    {
      "cell_type": "markdown",
      "metadata": {
        "id": "yK3-NGaveWf5"
      },
      "source": [
        "### Feature Engineering"
      ]
    },
    {
      "cell_type": "code",
      "execution_count": 14,
      "metadata": {
        "colab": {
          "base_uri": "https://localhost:8080/",
          "height": 443
        },
        "id": "TIxqQhOweWf5",
        "outputId": "5f2a809a-784f-4cf2-e9a7-b29e578024b5",
        "trusted": true
      },
      "outputs": [
        {
          "data": {
            "text/html": [
              "<div>\n",
              "<style scoped>\n",
              "    .dataframe tbody tr th:only-of-type {\n",
              "        vertical-align: middle;\n",
              "    }\n",
              "\n",
              "    .dataframe tbody tr th {\n",
              "        vertical-align: top;\n",
              "    }\n",
              "\n",
              "    .dataframe thead th {\n",
              "        text-align: right;\n",
              "    }\n",
              "</style>\n",
              "<table border=\"1\" class=\"dataframe\">\n",
              "  <thead>\n",
              "    <tr style=\"text-align: right;\">\n",
              "      <th></th>\n",
              "      <th>BloodPressure</th>\n",
              "      <th>Insulin</th>\n",
              "      <th>DiabetesPedigreeFunction</th>\n",
              "      <th>Age</th>\n",
              "      <th>Outcome</th>\n",
              "      <th>NEW_BMI_CAT</th>\n",
              "      <th>NEW_GLUCOSE_CAT</th>\n",
              "      <th>NEW_PREGNANCIES</th>\n",
              "      <th>NEW_SKIN_THICKNESS</th>\n",
              "      <th>NEW_CIRCULATION_LEVEL</th>\n",
              "      <th>PRE_AGE_CAT</th>\n",
              "      <th>INSULIN_GLUCOSE_CAT</th>\n",
              "    </tr>\n",
              "  </thead>\n",
              "  <tbody>\n",
              "    <tr>\n",
              "      <th>0</th>\n",
              "      <td>72.0</td>\n",
              "      <td>169.5</td>\n",
              "      <td>0.627</td>\n",
              "      <td>50</td>\n",
              "      <td>1</td>\n",
              "      <td>obese</td>\n",
              "      <td>very_high</td>\n",
              "      <td>over_pregnancies</td>\n",
              "      <td>NaN</td>\n",
              "      <td>medium_risk</td>\n",
              "      <td>300</td>\n",
              "      <td>25086.0</td>\n",
              "    </tr>\n",
              "    <tr>\n",
              "      <th>1</th>\n",
              "      <td>66.0</td>\n",
              "      <td>102.5</td>\n",
              "      <td>0.351</td>\n",
              "      <td>31</td>\n",
              "      <td>0</td>\n",
              "      <td>overweight</td>\n",
              "      <td>normal</td>\n",
              "      <td>std_pregnancies</td>\n",
              "      <td>normal</td>\n",
              "      <td>normal</td>\n",
              "      <td>31</td>\n",
              "      <td>8712.5</td>\n",
              "    </tr>\n",
              "    <tr>\n",
              "      <th>2</th>\n",
              "      <td>64.0</td>\n",
              "      <td>169.5</td>\n",
              "      <td>0.672</td>\n",
              "      <td>32</td>\n",
              "      <td>1</td>\n",
              "      <td>normal</td>\n",
              "      <td>very_high</td>\n",
              "      <td>over_pregnancies</td>\n",
              "      <td>NaN</td>\n",
              "      <td>medium_risk</td>\n",
              "      <td>256</td>\n",
              "      <td>31018.5</td>\n",
              "    </tr>\n",
              "    <tr>\n",
              "      <th>3</th>\n",
              "      <td>66.0</td>\n",
              "      <td>94.0</td>\n",
              "      <td>0.167</td>\n",
              "      <td>21</td>\n",
              "      <td>0</td>\n",
              "      <td>overweight</td>\n",
              "      <td>normal</td>\n",
              "      <td>std_pregnancies</td>\n",
              "      <td>normal</td>\n",
              "      <td>normal</td>\n",
              "      <td>21</td>\n",
              "      <td>8366.0</td>\n",
              "    </tr>\n",
              "    <tr>\n",
              "      <th>4</th>\n",
              "      <td>40.0</td>\n",
              "      <td>168.0</td>\n",
              "      <td>2.288</td>\n",
              "      <td>33</td>\n",
              "      <td>1</td>\n",
              "      <td>NaN</td>\n",
              "      <td>very_high</td>\n",
              "      <td>std_pregnancies</td>\n",
              "      <td>NaN</td>\n",
              "      <td>medium_risk</td>\n",
              "      <td>0</td>\n",
              "      <td>23016.0</td>\n",
              "    </tr>\n",
              "    <tr>\n",
              "      <th>...</th>\n",
              "      <td>...</td>\n",
              "      <td>...</td>\n",
              "      <td>...</td>\n",
              "      <td>...</td>\n",
              "      <td>...</td>\n",
              "      <td>...</td>\n",
              "      <td>...</td>\n",
              "      <td>...</td>\n",
              "      <td>...</td>\n",
              "      <td>...</td>\n",
              "      <td>...</td>\n",
              "      <td>...</td>\n",
              "    </tr>\n",
              "    <tr>\n",
              "      <th>763</th>\n",
              "      <td>76.0</td>\n",
              "      <td>180.0</td>\n",
              "      <td>0.171</td>\n",
              "      <td>63</td>\n",
              "      <td>0</td>\n",
              "      <td>obese</td>\n",
              "      <td>high</td>\n",
              "      <td>over_pregnancies</td>\n",
              "      <td>NaN</td>\n",
              "      <td>medium_risk</td>\n",
              "      <td>630</td>\n",
              "      <td>18180.0</td>\n",
              "    </tr>\n",
              "    <tr>\n",
              "      <th>764</th>\n",
              "      <td>70.0</td>\n",
              "      <td>102.5</td>\n",
              "      <td>0.340</td>\n",
              "      <td>27</td>\n",
              "      <td>0</td>\n",
              "      <td>obese</td>\n",
              "      <td>high</td>\n",
              "      <td>std_pregnancies</td>\n",
              "      <td>normal</td>\n",
              "      <td>normal</td>\n",
              "      <td>54</td>\n",
              "      <td>12505.0</td>\n",
              "    </tr>\n",
              "    <tr>\n",
              "      <th>765</th>\n",
              "      <td>72.0</td>\n",
              "      <td>112.0</td>\n",
              "      <td>0.245</td>\n",
              "      <td>30</td>\n",
              "      <td>0</td>\n",
              "      <td>overweight</td>\n",
              "      <td>high</td>\n",
              "      <td>over_pregnancies</td>\n",
              "      <td>normal</td>\n",
              "      <td>normal</td>\n",
              "      <td>150</td>\n",
              "      <td>13552.0</td>\n",
              "    </tr>\n",
              "    <tr>\n",
              "      <th>766</th>\n",
              "      <td>60.0</td>\n",
              "      <td>169.5</td>\n",
              "      <td>0.349</td>\n",
              "      <td>47</td>\n",
              "      <td>1</td>\n",
              "      <td>obese</td>\n",
              "      <td>NaN</td>\n",
              "      <td>std_pregnancies</td>\n",
              "      <td>NaN</td>\n",
              "      <td>medium_risk</td>\n",
              "      <td>47</td>\n",
              "      <td>21357.0</td>\n",
              "    </tr>\n",
              "    <tr>\n",
              "      <th>767</th>\n",
              "      <td>70.0</td>\n",
              "      <td>102.5</td>\n",
              "      <td>0.315</td>\n",
              "      <td>23</td>\n",
              "      <td>0</td>\n",
              "      <td>obese</td>\n",
              "      <td>normal</td>\n",
              "      <td>std_pregnancies</td>\n",
              "      <td>NaN</td>\n",
              "      <td>medium_risk</td>\n",
              "      <td>23</td>\n",
              "      <td>9532.5</td>\n",
              "    </tr>\n",
              "  </tbody>\n",
              "</table>\n",
              "<p>768 rows × 12 columns</p>\n",
              "</div>"
            ],
            "text/plain": [
              "     BloodPressure  Insulin  DiabetesPedigreeFunction  Age  Outcome  \\\n",
              "0             72.0    169.5                     0.627   50        1   \n",
              "1             66.0    102.5                     0.351   31        0   \n",
              "2             64.0    169.5                     0.672   32        1   \n",
              "3             66.0     94.0                     0.167   21        0   \n",
              "4             40.0    168.0                     2.288   33        1   \n",
              "..             ...      ...                       ...  ...      ...   \n",
              "763           76.0    180.0                     0.171   63        0   \n",
              "764           70.0    102.5                     0.340   27        0   \n",
              "765           72.0    112.0                     0.245   30        0   \n",
              "766           60.0    169.5                     0.349   47        1   \n",
              "767           70.0    102.5                     0.315   23        0   \n",
              "\n",
              "    NEW_BMI_CAT NEW_GLUCOSE_CAT   NEW_PREGNANCIES NEW_SKIN_THICKNESS  \\\n",
              "0         obese       very_high  over_pregnancies                NaN   \n",
              "1    overweight          normal   std_pregnancies             normal   \n",
              "2        normal       very_high  over_pregnancies                NaN   \n",
              "3    overweight          normal   std_pregnancies             normal   \n",
              "4           NaN       very_high   std_pregnancies                NaN   \n",
              "..          ...             ...               ...                ...   \n",
              "763       obese            high  over_pregnancies                NaN   \n",
              "764       obese            high   std_pregnancies             normal   \n",
              "765  overweight            high  over_pregnancies             normal   \n",
              "766       obese             NaN   std_pregnancies                NaN   \n",
              "767       obese          normal   std_pregnancies                NaN   \n",
              "\n",
              "    NEW_CIRCULATION_LEVEL  PRE_AGE_CAT  INSULIN_GLUCOSE_CAT  \n",
              "0             medium_risk          300              25086.0  \n",
              "1                  normal           31               8712.5  \n",
              "2             medium_risk          256              31018.5  \n",
              "3                  normal           21               8366.0  \n",
              "4             medium_risk            0              23016.0  \n",
              "..                    ...          ...                  ...  \n",
              "763           medium_risk          630              18180.0  \n",
              "764                normal           54              12505.0  \n",
              "765                normal          150              13552.0  \n",
              "766           medium_risk           47              21357.0  \n",
              "767           medium_risk           23               9532.5  \n",
              "\n",
              "[768 rows x 12 columns]"
            ]
          },
          "execution_count": 14,
          "metadata": {},
          "output_type": "execute_result"
        }
      ],
      "source": [
        "def create_new_bmi(df):\n",
        "    new_cat = \"NEW_BMI_CAT\"\n",
        "    df.loc[(df['BMI'] < 18.5), new_cat] = \"underweight\"\n",
        "    df.loc[(df['BMI'] > 18.5) & (df['BMI'] < 25), new_cat] = \"normal\"\n",
        "    df.loc[(df['BMI'] > 24) & (df['BMI'] < 30), new_cat] =  \"overweight\"\n",
        "    df.loc[(df['BMI'] > 30) & (df['BMI']< 40), new_cat] = \"obese\"\n",
        "    df.drop('BMI', axis=1, inplace=True)\n",
        "    df[new_cat] = df[new_cat].astype('category')\n",
        "\n",
        "def create_new_glucose(df):\n",
        "    new_cat = \"NEW_GLUCOSE_CAT\"\n",
        "    df.loc[(df['Glucose'] < 70), new_cat] = \"low\"\n",
        "    df.loc[(df['Glucose'] > 70) & (df['Glucose'] < 99), new_cat] = \"normal\"\n",
        "    df.loc[(df['Glucose'] > 99) & (df['Glucose'] < 126), new_cat] = \"high\"\n",
        "    df.loc[(df['Glucose'] > 126) & (df['Glucose'] < 200), new_cat] = \"very_high\"\n",
        "    df[new_cat] = df[new_cat].astype('category')\n",
        "\n",
        "\n",
        "def create_new_skinthickness(df):\n",
        "    new_cat = \"NEW_SKIN_THICKNESS\"\n",
        "    df.loc[df['SkinThickness'] < 30, new_cat] = \"normal\"\n",
        "    df.loc[df['SkinThickness'] >= 70, new_cat] = \"highfat\"\n",
        "    df[new_cat] = df[new_cat].astype('category')\n",
        "\n",
        "def create_new_pregnancies(df):\n",
        "    new_cat = \"NEW_PREGNANCIES\"\n",
        "    df.loc[df['Pregnancies'] == 0, new_cat] = \"no_pregnancies\"\n",
        "    df.loc[(df['Pregnancies'] > 0) & df['Pregnancies'] <= 4, new_cat] = \"std_pregnancies\"\n",
        "    df.loc[(df['Pregnancies'] > 4), new_cat] = \"over_pregnancies\"\n",
        "    df[new_cat] = df[new_cat].astype('category')\n",
        "\n",
        "def create_circulation_level(df):\n",
        "    new_cat = \"NEW_CIRCULATION_LEVEL\"\n",
        "    df.loc[(df['SkinThickness'] < 30) & (df['BloodPressure'] < 80), new_cat] = \"normal\"\n",
        "    df.loc[(df['SkinThickness'] > 30) & (df['BloodPressure']>= 80), new_cat] = \"high_risk\"\n",
        "    df.loc[((df['SkinThickness']< 30) & (df['BloodPressure'] >=80)) | ((df['SkinThickness']> 30) & (df['BloodPressure'] <80)), new_cat] = \"medium_risk\"\n",
        "    df[new_cat] = df[new_cat].astype('category')\n",
        "    df.drop('SkinThickness', axis=1, inplace=True)\n",
        "\n",
        "def create_other_features(df):\n",
        "    df['PRE_AGE_CAT'] = df['Age'] * df['Pregnancies']\n",
        "    df['INSULIN_GLUCOSE_CAT'] = df['Insulin'] * df['Glucose']\n",
        "    df.drop('Pregnancies', axis=1, inplace=True)\n",
        "    df.drop('Glucose', axis=1, inplace=True)\n",
        "\n",
        "create_new_bmi(df)\n",
        "create_new_glucose(df)\n",
        "create_new_pregnancies(df)\n",
        "create_new_skinthickness(df)\n",
        "create_circulation_level(df)\n",
        "create_other_features(df)\n",
        "df"
      ]
    },
    {
      "cell_type": "markdown",
      "metadata": {
        "id": "9uO9IFBSeWf5"
      },
      "source": [
        "### Label Encoding\n",
        "Doing Label encoding only for `Outcome` column."
      ]
    },
    {
      "cell_type": "code",
      "execution_count": 15,
      "metadata": {
        "colab": {
          "base_uri": "https://localhost:8080/"
        },
        "id": "lNcW7DyreWf6",
        "outputId": "d4617cd5-a4cc-4d40-d4c3-806c1e5c8fcf",
        "trusted": true
      },
      "outputs": [
        {
          "data": {
            "text/plain": [
              "True"
            ]
          },
          "execution_count": 15,
          "metadata": {},
          "output_type": "execute_result"
        }
      ],
      "source": [
        "df['NEW_CIRCULATION_LEVEL'].dtype.name == 'category'"
      ]
    },
    {
      "cell_type": "code",
      "execution_count": 16,
      "metadata": {
        "colab": {
          "base_uri": "https://localhost:8080/"
        },
        "id": "MB6lhMdgeWf6",
        "outputId": "539edd25-b90a-427b-a068-8bf77579a06a",
        "trusted": true
      },
      "outputs": [
        {
          "data": {
            "text/plain": [
              "4"
            ]
          },
          "execution_count": 16,
          "metadata": {},
          "output_type": "execute_result"
        }
      ],
      "source": [
        "len(df['NEW_CIRCULATION_LEVEL'].unique())"
      ]
    },
    {
      "cell_type": "code",
      "execution_count": 17,
      "metadata": {
        "id": "ARVrtv-neWf6",
        "trusted": true
      },
      "outputs": [],
      "source": [
        "label_encoder = preprocessing.LabelEncoder()\n",
        "df['Outcome'] = label_encoder.fit_transform(df['Outcome'])"
      ]
    },
    {
      "cell_type": "markdown",
      "metadata": {
        "id": "AMSjLTZOeWf6"
      },
      "source": [
        "### One-Hot Encoding\n",
        "We'll do One-Hot encoding for categorical cols."
      ]
    },
    {
      "cell_type": "code",
      "execution_count": 18,
      "metadata": {
        "colab": {
          "base_uri": "https://localhost:8080/"
        },
        "id": "ktkCr18-eWf6",
        "outputId": "55b3b3cb-fae3-4c73-fd7b-cc18a500442e",
        "trusted": true
      },
      "outputs": [
        {
          "name": "stdout",
          "output_type": "stream",
          "text": [
            "['NEW_BMI_CAT', 'NEW_GLUCOSE_CAT', 'NEW_PREGNANCIES', 'NEW_SKIN_THICKNESS', 'NEW_CIRCULATION_LEVEL']\n"
          ]
        }
      ],
      "source": [
        "categ_cols = [col for col in df.columns if df[col].dtype.name == 'category']\n",
        "print(categ_cols)"
      ]
    },
    {
      "cell_type": "code",
      "execution_count": 19,
      "metadata": {
        "colab": {
          "base_uri": "https://localhost:8080/",
          "height": 443
        },
        "id": "avbAY9_neWf7",
        "outputId": "22c62441-2a3f-4646-e2cf-b93d5c001b76",
        "trusted": true
      },
      "outputs": [
        {
          "data": {
            "text/html": [
              "<div>\n",
              "<style scoped>\n",
              "    .dataframe tbody tr th:only-of-type {\n",
              "        vertical-align: middle;\n",
              "    }\n",
              "\n",
              "    .dataframe tbody tr th {\n",
              "        vertical-align: top;\n",
              "    }\n",
              "\n",
              "    .dataframe thead th {\n",
              "        text-align: right;\n",
              "    }\n",
              "</style>\n",
              "<table border=\"1\" class=\"dataframe\">\n",
              "  <thead>\n",
              "    <tr style=\"text-align: right;\">\n",
              "      <th></th>\n",
              "      <th>BloodPressure</th>\n",
              "      <th>Insulin</th>\n",
              "      <th>DiabetesPedigreeFunction</th>\n",
              "      <th>Age</th>\n",
              "      <th>Outcome</th>\n",
              "      <th>PRE_AGE_CAT</th>\n",
              "      <th>INSULIN_GLUCOSE_CAT</th>\n",
              "      <th>NEW_BMI_CAT_obese</th>\n",
              "      <th>NEW_BMI_CAT_overweight</th>\n",
              "      <th>NEW_BMI_CAT_underweight</th>\n",
              "      <th>NEW_GLUCOSE_CAT_low</th>\n",
              "      <th>NEW_GLUCOSE_CAT_normal</th>\n",
              "      <th>NEW_GLUCOSE_CAT_very_high</th>\n",
              "      <th>NEW_PREGNANCIES_std_pregnancies</th>\n",
              "      <th>NEW_SKIN_THICKNESS_normal</th>\n",
              "      <th>NEW_CIRCULATION_LEVEL_medium_risk</th>\n",
              "      <th>NEW_CIRCULATION_LEVEL_normal</th>\n",
              "    </tr>\n",
              "  </thead>\n",
              "  <tbody>\n",
              "    <tr>\n",
              "      <th>0</th>\n",
              "      <td>72.0</td>\n",
              "      <td>169.5</td>\n",
              "      <td>0.627</td>\n",
              "      <td>50</td>\n",
              "      <td>1</td>\n",
              "      <td>300</td>\n",
              "      <td>25086.0</td>\n",
              "      <td>True</td>\n",
              "      <td>False</td>\n",
              "      <td>False</td>\n",
              "      <td>False</td>\n",
              "      <td>False</td>\n",
              "      <td>True</td>\n",
              "      <td>False</td>\n",
              "      <td>False</td>\n",
              "      <td>True</td>\n",
              "      <td>False</td>\n",
              "    </tr>\n",
              "    <tr>\n",
              "      <th>1</th>\n",
              "      <td>66.0</td>\n",
              "      <td>102.5</td>\n",
              "      <td>0.351</td>\n",
              "      <td>31</td>\n",
              "      <td>0</td>\n",
              "      <td>31</td>\n",
              "      <td>8712.5</td>\n",
              "      <td>False</td>\n",
              "      <td>True</td>\n",
              "      <td>False</td>\n",
              "      <td>False</td>\n",
              "      <td>True</td>\n",
              "      <td>False</td>\n",
              "      <td>True</td>\n",
              "      <td>True</td>\n",
              "      <td>False</td>\n",
              "      <td>True</td>\n",
              "    </tr>\n",
              "    <tr>\n",
              "      <th>2</th>\n",
              "      <td>64.0</td>\n",
              "      <td>169.5</td>\n",
              "      <td>0.672</td>\n",
              "      <td>32</td>\n",
              "      <td>1</td>\n",
              "      <td>256</td>\n",
              "      <td>31018.5</td>\n",
              "      <td>False</td>\n",
              "      <td>False</td>\n",
              "      <td>False</td>\n",
              "      <td>False</td>\n",
              "      <td>False</td>\n",
              "      <td>True</td>\n",
              "      <td>False</td>\n",
              "      <td>False</td>\n",
              "      <td>True</td>\n",
              "      <td>False</td>\n",
              "    </tr>\n",
              "    <tr>\n",
              "      <th>3</th>\n",
              "      <td>66.0</td>\n",
              "      <td>94.0</td>\n",
              "      <td>0.167</td>\n",
              "      <td>21</td>\n",
              "      <td>0</td>\n",
              "      <td>21</td>\n",
              "      <td>8366.0</td>\n",
              "      <td>False</td>\n",
              "      <td>True</td>\n",
              "      <td>False</td>\n",
              "      <td>False</td>\n",
              "      <td>True</td>\n",
              "      <td>False</td>\n",
              "      <td>True</td>\n",
              "      <td>True</td>\n",
              "      <td>False</td>\n",
              "      <td>True</td>\n",
              "    </tr>\n",
              "    <tr>\n",
              "      <th>4</th>\n",
              "      <td>40.0</td>\n",
              "      <td>168.0</td>\n",
              "      <td>2.288</td>\n",
              "      <td>33</td>\n",
              "      <td>1</td>\n",
              "      <td>0</td>\n",
              "      <td>23016.0</td>\n",
              "      <td>False</td>\n",
              "      <td>False</td>\n",
              "      <td>False</td>\n",
              "      <td>False</td>\n",
              "      <td>False</td>\n",
              "      <td>True</td>\n",
              "      <td>True</td>\n",
              "      <td>False</td>\n",
              "      <td>True</td>\n",
              "      <td>False</td>\n",
              "    </tr>\n",
              "    <tr>\n",
              "      <th>...</th>\n",
              "      <td>...</td>\n",
              "      <td>...</td>\n",
              "      <td>...</td>\n",
              "      <td>...</td>\n",
              "      <td>...</td>\n",
              "      <td>...</td>\n",
              "      <td>...</td>\n",
              "      <td>...</td>\n",
              "      <td>...</td>\n",
              "      <td>...</td>\n",
              "      <td>...</td>\n",
              "      <td>...</td>\n",
              "      <td>...</td>\n",
              "      <td>...</td>\n",
              "      <td>...</td>\n",
              "      <td>...</td>\n",
              "      <td>...</td>\n",
              "    </tr>\n",
              "    <tr>\n",
              "      <th>763</th>\n",
              "      <td>76.0</td>\n",
              "      <td>180.0</td>\n",
              "      <td>0.171</td>\n",
              "      <td>63</td>\n",
              "      <td>0</td>\n",
              "      <td>630</td>\n",
              "      <td>18180.0</td>\n",
              "      <td>True</td>\n",
              "      <td>False</td>\n",
              "      <td>False</td>\n",
              "      <td>False</td>\n",
              "      <td>False</td>\n",
              "      <td>False</td>\n",
              "      <td>False</td>\n",
              "      <td>False</td>\n",
              "      <td>True</td>\n",
              "      <td>False</td>\n",
              "    </tr>\n",
              "    <tr>\n",
              "      <th>764</th>\n",
              "      <td>70.0</td>\n",
              "      <td>102.5</td>\n",
              "      <td>0.340</td>\n",
              "      <td>27</td>\n",
              "      <td>0</td>\n",
              "      <td>54</td>\n",
              "      <td>12505.0</td>\n",
              "      <td>True</td>\n",
              "      <td>False</td>\n",
              "      <td>False</td>\n",
              "      <td>False</td>\n",
              "      <td>False</td>\n",
              "      <td>False</td>\n",
              "      <td>True</td>\n",
              "      <td>True</td>\n",
              "      <td>False</td>\n",
              "      <td>True</td>\n",
              "    </tr>\n",
              "    <tr>\n",
              "      <th>765</th>\n",
              "      <td>72.0</td>\n",
              "      <td>112.0</td>\n",
              "      <td>0.245</td>\n",
              "      <td>30</td>\n",
              "      <td>0</td>\n",
              "      <td>150</td>\n",
              "      <td>13552.0</td>\n",
              "      <td>False</td>\n",
              "      <td>True</td>\n",
              "      <td>False</td>\n",
              "      <td>False</td>\n",
              "      <td>False</td>\n",
              "      <td>False</td>\n",
              "      <td>False</td>\n",
              "      <td>True</td>\n",
              "      <td>False</td>\n",
              "      <td>True</td>\n",
              "    </tr>\n",
              "    <tr>\n",
              "      <th>766</th>\n",
              "      <td>60.0</td>\n",
              "      <td>169.5</td>\n",
              "      <td>0.349</td>\n",
              "      <td>47</td>\n",
              "      <td>1</td>\n",
              "      <td>47</td>\n",
              "      <td>21357.0</td>\n",
              "      <td>True</td>\n",
              "      <td>False</td>\n",
              "      <td>False</td>\n",
              "      <td>False</td>\n",
              "      <td>False</td>\n",
              "      <td>False</td>\n",
              "      <td>True</td>\n",
              "      <td>False</td>\n",
              "      <td>True</td>\n",
              "      <td>False</td>\n",
              "    </tr>\n",
              "    <tr>\n",
              "      <th>767</th>\n",
              "      <td>70.0</td>\n",
              "      <td>102.5</td>\n",
              "      <td>0.315</td>\n",
              "      <td>23</td>\n",
              "      <td>0</td>\n",
              "      <td>23</td>\n",
              "      <td>9532.5</td>\n",
              "      <td>True</td>\n",
              "      <td>False</td>\n",
              "      <td>False</td>\n",
              "      <td>False</td>\n",
              "      <td>True</td>\n",
              "      <td>False</td>\n",
              "      <td>True</td>\n",
              "      <td>False</td>\n",
              "      <td>True</td>\n",
              "      <td>False</td>\n",
              "    </tr>\n",
              "  </tbody>\n",
              "</table>\n",
              "<p>768 rows × 17 columns</p>\n",
              "</div>"
            ],
            "text/plain": [
              "     BloodPressure  Insulin  DiabetesPedigreeFunction  Age  Outcome  \\\n",
              "0             72.0    169.5                     0.627   50        1   \n",
              "1             66.0    102.5                     0.351   31        0   \n",
              "2             64.0    169.5                     0.672   32        1   \n",
              "3             66.0     94.0                     0.167   21        0   \n",
              "4             40.0    168.0                     2.288   33        1   \n",
              "..             ...      ...                       ...  ...      ...   \n",
              "763           76.0    180.0                     0.171   63        0   \n",
              "764           70.0    102.5                     0.340   27        0   \n",
              "765           72.0    112.0                     0.245   30        0   \n",
              "766           60.0    169.5                     0.349   47        1   \n",
              "767           70.0    102.5                     0.315   23        0   \n",
              "\n",
              "     PRE_AGE_CAT  INSULIN_GLUCOSE_CAT  NEW_BMI_CAT_obese  \\\n",
              "0            300              25086.0               True   \n",
              "1             31               8712.5              False   \n",
              "2            256              31018.5              False   \n",
              "3             21               8366.0              False   \n",
              "4              0              23016.0              False   \n",
              "..           ...                  ...                ...   \n",
              "763          630              18180.0               True   \n",
              "764           54              12505.0               True   \n",
              "765          150              13552.0              False   \n",
              "766           47              21357.0               True   \n",
              "767           23               9532.5               True   \n",
              "\n",
              "     NEW_BMI_CAT_overweight  NEW_BMI_CAT_underweight  NEW_GLUCOSE_CAT_low  \\\n",
              "0                     False                    False                False   \n",
              "1                      True                    False                False   \n",
              "2                     False                    False                False   \n",
              "3                      True                    False                False   \n",
              "4                     False                    False                False   \n",
              "..                      ...                      ...                  ...   \n",
              "763                   False                    False                False   \n",
              "764                   False                    False                False   \n",
              "765                    True                    False                False   \n",
              "766                   False                    False                False   \n",
              "767                   False                    False                False   \n",
              "\n",
              "     NEW_GLUCOSE_CAT_normal  NEW_GLUCOSE_CAT_very_high  \\\n",
              "0                     False                       True   \n",
              "1                      True                      False   \n",
              "2                     False                       True   \n",
              "3                      True                      False   \n",
              "4                     False                       True   \n",
              "..                      ...                        ...   \n",
              "763                   False                      False   \n",
              "764                   False                      False   \n",
              "765                   False                      False   \n",
              "766                   False                      False   \n",
              "767                    True                      False   \n",
              "\n",
              "     NEW_PREGNANCIES_std_pregnancies  NEW_SKIN_THICKNESS_normal  \\\n",
              "0                              False                      False   \n",
              "1                               True                       True   \n",
              "2                              False                      False   \n",
              "3                               True                       True   \n",
              "4                               True                      False   \n",
              "..                               ...                        ...   \n",
              "763                            False                      False   \n",
              "764                             True                       True   \n",
              "765                            False                       True   \n",
              "766                             True                      False   \n",
              "767                             True                      False   \n",
              "\n",
              "     NEW_CIRCULATION_LEVEL_medium_risk  NEW_CIRCULATION_LEVEL_normal  \n",
              "0                                 True                         False  \n",
              "1                                False                          True  \n",
              "2                                 True                         False  \n",
              "3                                False                          True  \n",
              "4                                 True                         False  \n",
              "..                                 ...                           ...  \n",
              "763                               True                         False  \n",
              "764                              False                          True  \n",
              "765                              False                          True  \n",
              "766                               True                         False  \n",
              "767                               True                         False  \n",
              "\n",
              "[768 rows x 17 columns]"
            ]
          },
          "execution_count": 19,
          "metadata": {},
          "output_type": "execute_result"
        }
      ],
      "source": [
        "def one_hot_encoder(df, columns):\n",
        "    df_dummy = df.copy()\n",
        "    df_dummy = pd.get_dummies(df, columns=columns, drop_first=True)\n",
        "    return df_dummy\n",
        "\n",
        "result = one_hot_encoder(df, categ_cols)\n",
        "result"
      ]
    },
    {
      "cell_type": "markdown",
      "metadata": {
        "id": "eD3UDcj-eWf7"
      },
      "source": [
        "### Model Training using GridSearchCV\n",
        "- Grid search helps to find the best combination of hyperparameters that maximizes the model's performance."
      ]
    },
    {
      "cell_type": "code",
      "execution_count": 20,
      "metadata": {
        "id": "wfzhImQgeWf7",
        "trusted": true
      },
      "outputs": [],
      "source": [
        "from sklearn.model_selection import train_test_split\n",
        "\n",
        "X = result.drop('Outcome', axis=1)\n",
        "y = df['Outcome']\n",
        "\n",
        "X_train, X_test, y_train, y_test = train_test_split(X, y, test_size=0.2, random_state=42)"
      ]
    },
    {
      "cell_type": "code",
      "execution_count": 25,
      "metadata": {
        "colab": {
          "base_uri": "https://localhost:8080/"
        },
        "id": "p4LSAfnheWf7",
        "outputId": "d6d37706-8eec-4959-d42c-cf85b855577e",
        "trusted": true
      },
      "outputs": [
        {
          "name": "stdout",
          "output_type": "stream",
          "text": [
            "Best Parameters:  {'max_leaf_nodes': 15, 'n_estimators': 400}\n"
          ]
        }
      ],
      "source": [
        "from sklearn.ensemble import RandomForestClassifier\n",
        "from sklearn.model_selection import GridSearchCV\n",
        "from sklearn.metrics import classification_report, recall_score, roc_auc_score\n",
        "\n",
        "# Defining hyperparameter grid\n",
        "param_grid = {'n_estimators': [400, 500, 600],\n",
        "              'max_leaf_nodes': [14, 15, 16]}\n",
        "\n",
        "# Instantiate the model\n",
        "random_forest = RandomForestClassifier(n_jobs=-1)\n",
        "\n",
        "# Setup grid search\n",
        "grid_search_rf = GridSearchCV(random_forest,\n",
        "                              param_grid=param_grid,\n",
        "                              cv=3,\n",
        "                              scoring='recall',\n",
        "                              return_train_score=True)\n",
        "\n",
        "# Fit the training data\n",
        "grid_search_rf.fit(X_train, y_train)\n",
        "\n",
        "# Best hyperparameters\n",
        "print(\"Best Parameters: \", grid_search_rf.best_params_)"
      ]
    },
    {
      "cell_type": "code",
      "execution_count": 27,
      "metadata": {},
      "outputs": [
        {
          "name": "stdout",
          "output_type": "stream",
          "text": [
            "\n",
            "Classification Report:\n",
            "               precision    recall  f1-score   support\n",
            "\n",
            "           0       0.88      0.85      0.87        99\n",
            "           1       0.75      0.80      0.77        55\n",
            "\n",
            "    accuracy                           0.83       154\n",
            "   macro avg       0.81      0.82      0.82       154\n",
            "weighted avg       0.83      0.83      0.83       154\n",
            "\n",
            "Recall Score: 0.8\n",
            "ROC-AUC Score: 0.923048668503214\n"
          ]
        }
      ],
      "source": [
        "# Evaluate on test set\n",
        "y_pred = grid_search_rf.predict(X_test)\n",
        "y_proba = grid_search_rf.predict_proba(X_test)[:, 1]\n",
        "\n",
        "print(\"\\nClassification Report:\\n\", classification_report(y_test, y_pred))\n",
        "print(\"Recall Score:\", recall_score(y_test, y_pred))\n",
        "print(\"ROC-AUC Score:\", roc_auc_score(y_test, y_proba))"
      ]
    }
  ],
  "metadata": {
    "colab": {
      "provenance": []
    },
    "kernelspec": {
      "display_name": "base",
      "language": "python",
      "name": "python3"
    },
    "language_info": {
      "codemirror_mode": {
        "name": "ipython",
        "version": 3
      },
      "file_extension": ".py",
      "mimetype": "text/x-python",
      "name": "python",
      "nbconvert_exporter": "python",
      "pygments_lexer": "ipython3",
      "version": "3.12.7"
    }
  },
  "nbformat": 4,
  "nbformat_minor": 0
}
